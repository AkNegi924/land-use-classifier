{
 "cells": [
  {
   "cell_type": "code",
   "execution_count": 1,
   "id": "e9cda99f",
   "metadata": {
    "execution": {
     "iopub.execute_input": "2025-03-25T14:12:24.811546Z",
     "iopub.status.busy": "2025-03-25T14:12:24.811181Z",
     "iopub.status.idle": "2025-03-25T14:12:38.372258Z",
     "shell.execute_reply": "2025-03-25T14:12:38.371303Z"
    },
    "papermill": {
     "duration": 13.567216,
     "end_time": "2025-03-25T14:12:38.373910",
     "exception": false,
     "start_time": "2025-03-25T14:12:24.806694",
     "status": "completed"
    },
    "tags": []
   },
   "outputs": [],
   "source": [
    "import os\n",
    "import time\n",
    "import numpy as np\n",
    "import matplotlib.pyplot as plt\n",
    "import pandas as pd\n",
    "import tensorflow as tf\n",
    "from tensorflow.keras.models import Sequential, Model, load_model\n",
    "from tensorflow.keras.layers import (\n",
    "    Conv2D,\n",
    "    BatchNormalization,\n",
    "    MaxPooling2D,\n",
    "    Flatten,\n",
    "    Dense,\n",
    "    Dropout,\n",
    "    Input,\n",
    ")\n",
    "from tensorflow.keras.preprocessing.image import ImageDataGenerator\n",
    "from sklearn.metrics import (\n",
    "    classification_report,\n",
    "    confusion_matrix,\n",
    "    roc_curve,\n",
    "    auc,\n",
    "    precision_score,\n",
    "    recall_score,\n",
    "    f1_score,\n",
    "    matthews_corrcoef,\n",
    ")\n",
    "from sklearn.preprocessing import label_binarize\n",
    "from tqdm import tqdm\n",
    "\n",
    "import pickle\n",
    "from tensorflow.keras.optimizers import Adam\n",
    "import gc"
   ]
  },
  {
   "cell_type": "code",
   "execution_count": 2,
   "id": "f37890db",
   "metadata": {
    "execution": {
     "iopub.execute_input": "2025-03-25T14:12:38.382545Z",
     "iopub.status.busy": "2025-03-25T14:12:38.381907Z",
     "iopub.status.idle": "2025-03-25T14:12:39.061408Z",
     "shell.execute_reply": "2025-03-25T14:12:39.060579Z"
    },
    "papermill": {
     "duration": 0.685797,
     "end_time": "2025-03-25T14:12:39.063030",
     "exception": false,
     "start_time": "2025-03-25T14:12:38.377233",
     "status": "completed"
    },
    "tags": []
   },
   "outputs": [
    {
     "name": "stdout",
     "output_type": "stream",
     "text": [
      "Num GPUs Available: 1\n"
     ]
    }
   ],
   "source": [
    "print(\"Num GPUs Available:\", len(tf.config.list_physical_devices('GPU')))"
   ]
  },
  {
   "cell_type": "code",
   "execution_count": 3,
   "id": "79f66106",
   "metadata": {
    "execution": {
     "iopub.execute_input": "2025-03-25T14:12:39.071113Z",
     "iopub.status.busy": "2025-03-25T14:12:39.070857Z",
     "iopub.status.idle": "2025-03-25T14:12:39.074100Z",
     "shell.execute_reply": "2025-03-25T14:12:39.073365Z"
    },
    "papermill": {
     "duration": 0.008933,
     "end_time": "2025-03-25T14:12:39.075590",
     "exception": false,
     "start_time": "2025-03-25T14:12:39.066657",
     "status": "completed"
    },
    "tags": []
   },
   "outputs": [],
   "source": [
    "student_name = \"AkhileshNegi\" \n",
    "reg_number = \"221AI008\"  "
   ]
  },
  {
   "cell_type": "code",
   "execution_count": 4,
   "id": "6c41b701",
   "metadata": {
    "execution": {
     "iopub.execute_input": "2025-03-25T14:12:39.083434Z",
     "iopub.status.busy": "2025-03-25T14:12:39.083192Z",
     "iopub.status.idle": "2025-03-25T14:12:39.087228Z",
     "shell.execute_reply": "2025-03-25T14:12:39.086539Z"
    },
    "papermill": {
     "duration": 0.009136,
     "end_time": "2025-03-25T14:12:39.088423",
     "exception": false,
     "start_time": "2025-03-25T14:12:39.079287",
     "status": "completed"
    },
    "tags": []
   },
   "outputs": [],
   "source": [
    "img_height, img_width = 256, 256\n",
    "input_shape = (img_height, img_width, 3)\n",
    "num_classes = 21\n",
    "batch_size = 64\n",
    "epochs = 100\n",
    "\n",
    "train_dir = \"/kaggle/input/ucm-data/Images/train\"\n",
    "val_dir = \"/kaggle/input/ucm-data/Images/val\"\n",
    "test_dir = \"/kaggle/input/ucm-data/Images/test\""
   ]
  },
  {
   "cell_type": "code",
   "execution_count": 5,
   "id": "8d837636",
   "metadata": {
    "execution": {
     "iopub.execute_input": "2025-03-25T14:12:39.096189Z",
     "iopub.status.busy": "2025-03-25T14:12:39.095963Z",
     "iopub.status.idle": "2025-03-25T14:12:39.101647Z",
     "shell.execute_reply": "2025-03-25T14:12:39.100931Z"
    },
    "papermill": {
     "duration": 0.011184,
     "end_time": "2025-03-25T14:12:39.103046",
     "exception": false,
     "start_time": "2025-03-25T14:12:39.091862",
     "status": "completed"
    },
    "tags": []
   },
   "outputs": [],
   "source": [
    "def create_cnn_fe_model(input_shape=(256, 256, 3), num_classes=21):\n",
    "    model = Sequential([\n",
    "        Input(shape=input_shape),  # Explicitly define input shape\n",
    "\n",
    "        # First Convolutional Block\n",
    "        Conv2D(8, (3, 3), activation='relu', padding='same'),\n",
    "        BatchNormalization(),\n",
    "        MaxPooling2D(pool_size=(2, 2)),\n",
    "        \n",
    "        # Second Convolutional Block\n",
    "        Conv2D(16, (3, 3), activation='relu', padding='same'),\n",
    "        BatchNormalization(), \n",
    "        MaxPooling2D(pool_size=(2, 2)),\n",
    "        \n",
    "        # Third Convolutional Block\n",
    "        Conv2D(32, (3, 3), activation='relu', padding='same'),\n",
    "        BatchNormalization(),\n",
    "        MaxPooling2D(pool_size=(2, 2)),\n",
    "        \n",
    "        # Fourth Convolutional Block\n",
    "        Conv2D(64, (3, 3), activation='relu', padding='same'),\n",
    "        BatchNormalization(),\n",
    "        MaxPooling2D(pool_size=(2, 2)),\n",
    "        \n",
    "        # Flatten and Dense Layers\n",
    "        Flatten(),\n",
    "        Dense(128, activation='relu'),\n",
    "        Dense(64, activation='relu'),\n",
    "        Dropout(0.25),\n",
    "        \n",
    "        # Output Layer\n",
    "        Dense(num_classes, activation='softmax')\n",
    "    ])\n",
    "    \n",
    "    # Compile the model\n",
    "    model.compile(\n",
    "        optimizer=Adam(),\n",
    "        loss='categorical_crossentropy',\n",
    "        metrics=['accuracy']\n",
    "    )\n",
    "    \n",
    "    return model\n"
   ]
  },
  {
   "cell_type": "code",
   "execution_count": 6,
   "id": "c21d7c25",
   "metadata": {
    "execution": {
     "iopub.execute_input": "2025-03-25T14:12:39.110573Z",
     "iopub.status.busy": "2025-03-25T14:12:39.110346Z",
     "iopub.status.idle": "2025-03-25T14:12:41.234665Z",
     "shell.execute_reply": "2025-03-25T14:12:41.233796Z"
    },
    "papermill": {
     "duration": 2.129594,
     "end_time": "2025-03-25T14:12:41.236065",
     "exception": false,
     "start_time": "2025-03-25T14:12:39.106471",
     "status": "completed"
    },
    "tags": []
   },
   "outputs": [
    {
     "name": "stdout",
     "output_type": "stream",
     "text": [
      "Found 1260 images belonging to 21 classes.\n",
      "Found 420 images belonging to 21 classes.\n"
     ]
    }
   ],
   "source": [
    "# ========================\n",
    "# Data Generators\n",
    "# ========================\n",
    "\n",
    "train_datagen = ImageDataGenerator(\n",
    "    rescale=1.0 / 255,\n",
    "    rotation_range=20,\n",
    "    width_shift_range=0.2,\n",
    "    height_shift_range=0.2,\n",
    "    shear_range=0.2,\n",
    "    zoom_range=0.2,\n",
    "    horizontal_flip=True,\n",
    ")\n",
    "\n",
    "val_datagen = ImageDataGenerator(rescale=1.0 / 255)\n",
    "\n",
    "\n",
    "train_generator = train_datagen.flow_from_directory(\n",
    "    train_dir,\n",
    "    target_size=(img_height, img_width),\n",
    "    batch_size=batch_size,\n",
    "    class_mode=\"categorical\",\n",
    "    shuffle=True,\n",
    ")\n",
    "\n",
    "val_generator = val_datagen.flow_from_directory(\n",
    "    val_dir,\n",
    "    target_size=(img_height, img_width),\n",
    "    batch_size=batch_size,\n",
    "    class_mode=\"categorical\",\n",
    "    shuffle=False,\n",
    ")"
   ]
  },
  {
   "cell_type": "markdown",
   "id": "79c44ce4",
   "metadata": {
    "papermill": {
     "duration": 0.003004,
     "end_time": "2025-03-25T14:12:41.242354",
     "exception": false,
     "start_time": "2025-03-25T14:12:41.239350",
     "status": "completed"
    },
    "tags": []
   },
   "source": [
    "## Plotting Normalization Plots"
   ]
  },
  {
   "cell_type": "code",
   "execution_count": 7,
   "id": "db13f933",
   "metadata": {
    "execution": {
     "iopub.execute_input": "2025-03-25T14:12:41.249254Z",
     "iopub.status.busy": "2025-03-25T14:12:41.249016Z",
     "iopub.status.idle": "2025-03-25T14:12:42.825760Z",
     "shell.execute_reply": "2025-03-25T14:12:42.825066Z"
    },
    "papermill": {
     "duration": 1.581848,
     "end_time": "2025-03-25T14:12:42.827290",
     "exception": false,
     "start_time": "2025-03-25T14:12:41.245442",
     "status": "completed"
    },
    "tags": []
   },
   "outputs": [],
   "source": [
    "# Build the model\n",
    "model = create_cnn_fe_model(input_shape=input_shape, num_classes=num_classes)\n",
    "\n",
    "# Create an intermediate model to extract activations before and after BN\n",
    "# We pair each Conv2D layer (if followed by BN) with its subsequent BN layer.\n",
    "layer_names = []  # to keep track of layer pair names\n",
    "intermediate_outputs = []\n",
    "for i, layer in enumerate(model.layers):\n",
    "    if isinstance(layer, tf.keras.layers.Conv2D):\n",
    "        # Check if the next layer is BatchNormalization\n",
    "        if (i + 1) < len(model.layers) and isinstance(model.layers[i+1], tf.keras.layers.BatchNormalization):\n",
    "            layer_names.append((f\"conv_{i}\", f\"bn_{i+1}\"))\n",
    "            intermediate_outputs.append(layer.output)           # activation before BN\n",
    "            intermediate_outputs.append(model.layers[i+1].output) # activation after BN\n",
    "\n",
    "# Build the model that outputs the activations of interest.\n",
    "debug_model = Model(inputs=model.inputs[0], outputs=intermediate_outputs)\n",
    "\n",
    "# Create the base output folder for normalized plots.\n",
    "base_plot_dir = \"normalized_plots\"\n",
    "os.makedirs(base_plot_dir, exist_ok=True)\n",
    "\n",
    "num_epochs = 5\n",
    "batches_per_epoch = 19  # as specified"
   ]
  },
  {
   "cell_type": "code",
   "execution_count": 8,
   "id": "90a73037",
   "metadata": {
    "execution": {
     "iopub.execute_input": "2025-03-25T14:12:42.834695Z",
     "iopub.status.busy": "2025-03-25T14:12:42.834409Z",
     "iopub.status.idle": "2025-03-25T14:34:03.470287Z",
     "shell.execute_reply": "2025-03-25T14:34:03.469290Z"
    },
    "papermill": {
     "duration": 1280.653029,
     "end_time": "2025-03-25T14:34:03.483562",
     "exception": false,
     "start_time": "2025-03-25T14:12:42.830533",
     "status": "completed"
    },
    "tags": []
   },
   "outputs": [
    {
     "name": "stdout",
     "output_type": "stream",
     "text": [
      "Epoch 1/5\n",
      "  Batch 1/19 - Loss: 3.9131, Acc: 0.0000\n",
      "\u001b[1m1/1\u001b[0m \u001b[32m━━━━━━━━━━━━━━━━━━━━\u001b[0m\u001b[37m\u001b[0m \u001b[1m1s\u001b[0m 718ms/step\n",
      "  Batch 2/19 - Loss: 6.6355, Acc: 0.0000\n",
      "\u001b[1m1/1\u001b[0m \u001b[32m━━━━━━━━━━━━━━━━━━━━\u001b[0m\u001b[37m\u001b[0m \u001b[1m0s\u001b[0m 28ms/step\n",
      "  Batch 3/19 - Loss: 6.6957, Acc: 0.0208\n",
      "\u001b[1m1/1\u001b[0m \u001b[32m━━━━━━━━━━━━━━━━━━━━\u001b[0m\u001b[37m\u001b[0m \u001b[1m0s\u001b[0m 30ms/step\n",
      "  Batch 4/19 - Loss: 6.0901, Acc: 0.0312\n",
      "\u001b[1m1/1\u001b[0m \u001b[32m━━━━━━━━━━━━━━━━━━━━\u001b[0m\u001b[37m\u001b[0m \u001b[1m0s\u001b[0m 31ms/step\n",
      "  Batch 5/19 - Loss: 6.2406, Acc: 0.0250\n",
      "\u001b[1m1/1\u001b[0m \u001b[32m━━━━━━━━━━━━━━━━━━━━\u001b[0m\u001b[37m\u001b[0m \u001b[1m0s\u001b[0m 29ms/step\n",
      "  Batch 6/19 - Loss: 5.8919, Acc: 0.0312\n",
      "\u001b[1m1/1\u001b[0m \u001b[32m━━━━━━━━━━━━━━━━━━━━\u001b[0m\u001b[37m\u001b[0m \u001b[1m0s\u001b[0m 30ms/step\n",
      "  Batch 7/19 - Loss: 5.8158, Acc: 0.0268\n",
      "\u001b[1m1/1\u001b[0m \u001b[32m━━━━━━━━━━━━━━━━━━━━\u001b[0m\u001b[37m\u001b[0m \u001b[1m0s\u001b[0m 22ms/step\n",
      "  Batch 8/19 - Loss: 5.7218, Acc: 0.0391\n",
      "\u001b[1m1/1\u001b[0m \u001b[32m━━━━━━━━━━━━━━━━━━━━\u001b[0m\u001b[37m\u001b[0m \u001b[1m0s\u001b[0m 29ms/step\n",
      "  Batch 9/19 - Loss: 5.7588, Acc: 0.0556\n",
      "\u001b[1m1/1\u001b[0m \u001b[32m━━━━━━━━━━━━━━━━━━━━\u001b[0m\u001b[37m\u001b[0m \u001b[1m0s\u001b[0m 23ms/step\n",
      "  Batch 10/19 - Loss: 5.5122, Acc: 0.0625\n",
      "\u001b[1m1/1\u001b[0m \u001b[32m━━━━━━━━━━━━━━━━━━━━\u001b[0m\u001b[37m\u001b[0m \u001b[1m0s\u001b[0m 30ms/step\n",
      "  Batch 11/19 - Loss: 5.4865, Acc: 0.0625\n",
      "\u001b[1m1/1\u001b[0m \u001b[32m━━━━━━━━━━━━━━━━━━━━\u001b[0m\u001b[37m\u001b[0m \u001b[1m0s\u001b[0m 32ms/step\n",
      "  Batch 12/19 - Loss: 5.3936, Acc: 0.0625\n",
      "\u001b[1m1/1\u001b[0m \u001b[32m━━━━━━━━━━━━━━━━━━━━\u001b[0m\u001b[37m\u001b[0m \u001b[1m0s\u001b[0m 32ms/step\n",
      "  Batch 13/19 - Loss: 5.2398, Acc: 0.0817\n",
      "\u001b[1m1/1\u001b[0m \u001b[32m━━━━━━━━━━━━━━━━━━━━\u001b[0m\u001b[37m\u001b[0m \u001b[1m0s\u001b[0m 30ms/step\n",
      "  Batch 14/19 - Loss: 5.0838, Acc: 0.0893\n",
      "\u001b[1m1/1\u001b[0m \u001b[32m━━━━━━━━━━━━━━━━━━━━\u001b[0m\u001b[37m\u001b[0m \u001b[1m0s\u001b[0m 22ms/step\n",
      "  Batch 15/19 - Loss: 4.9792, Acc: 0.0958\n",
      "\u001b[1m1/1\u001b[0m \u001b[32m━━━━━━━━━━━━━━━━━━━━\u001b[0m\u001b[37m\u001b[0m \u001b[1m0s\u001b[0m 22ms/step\n",
      "  Batch 16/19 - Loss: 4.9200, Acc: 0.1055\n",
      "\u001b[1m1/1\u001b[0m \u001b[32m━━━━━━━━━━━━━━━━━━━━\u001b[0m\u001b[37m\u001b[0m \u001b[1m0s\u001b[0m 21ms/step\n",
      "  Batch 17/19 - Loss: 4.8854, Acc: 0.1066\n",
      "\u001b[1m1/1\u001b[0m \u001b[32m━━━━━━━━━━━━━━━━━━━━\u001b[0m\u001b[37m\u001b[0m \u001b[1m0s\u001b[0m 22ms/step\n",
      "  Batch 18/19 - Loss: 4.7877, Acc: 0.1076\n",
      "\u001b[1m1/1\u001b[0m \u001b[32m━━━━━━━━━━━━━━━━━━━━\u001b[0m\u001b[37m\u001b[0m \u001b[1m0s\u001b[0m 21ms/step\n",
      "  Batch 19/19 - Loss: 4.7597, Acc: 0.1053\n",
      "\u001b[1m1/1\u001b[0m \u001b[32m━━━━━━━━━━━━━━━━━━━━\u001b[0m\u001b[37m\u001b[0m \u001b[1m0s\u001b[0m 22ms/step\n",
      "Epoch 2/5\n",
      "  Batch 1/19 - Loss: 4.6943, Acc: 0.1000\n",
      "\u001b[1m1/1\u001b[0m \u001b[32m━━━━━━━━━━━━━━━━━━━━\u001b[0m\u001b[37m\u001b[0m \u001b[1m0s\u001b[0m 22ms/step\n",
      "  Batch 2/19 - Loss: 4.6215, Acc: 0.1012\n",
      "\u001b[1m1/1\u001b[0m \u001b[32m━━━━━━━━━━━━━━━━━━━━\u001b[0m\u001b[37m\u001b[0m \u001b[1m0s\u001b[0m 22ms/step\n",
      "  Batch 3/19 - Loss: 4.5573, Acc: 0.0994\n",
      "\u001b[1m1/1\u001b[0m \u001b[32m━━━━━━━━━━━━━━━━━━━━\u001b[0m\u001b[37m\u001b[0m \u001b[1m0s\u001b[0m 23ms/step\n",
      "  Batch 4/19 - Loss: 4.5053, Acc: 0.0951\n",
      "\u001b[1m1/1\u001b[0m \u001b[32m━━━━━━━━━━━━━━━━━━━━\u001b[0m\u001b[37m\u001b[0m \u001b[1m0s\u001b[0m 22ms/step\n",
      "  Batch 5/19 - Loss: 4.4637, Acc: 0.0964\n",
      "\u001b[1m1/1\u001b[0m \u001b[32m━━━━━━━━━━━━━━━━━━━━\u001b[0m\u001b[37m\u001b[0m \u001b[1m0s\u001b[0m 23ms/step\n",
      "  Batch 6/19 - Loss: 4.4204, Acc: 0.0950\n",
      "\u001b[1m1/1\u001b[0m \u001b[32m━━━━━━━━━━━━━━━━━━━━\u001b[0m\u001b[37m\u001b[0m \u001b[1m0s\u001b[0m 34ms/step\n",
      "  Batch 7/19 - Loss: 4.3497, Acc: 0.0986\n",
      "\u001b[1m1/1\u001b[0m \u001b[32m━━━━━━━━━━━━━━━━━━━━\u001b[0m\u001b[37m\u001b[0m \u001b[1m0s\u001b[0m 22ms/step\n",
      "  Batch 8/19 - Loss: 4.2986, Acc: 0.0972\n",
      "\u001b[1m1/1\u001b[0m \u001b[32m━━━━━━━━━━━━━━━━━━━━\u001b[0m\u001b[37m\u001b[0m \u001b[1m0s\u001b[0m 21ms/step\n",
      "  Batch 9/19 - Loss: 4.2501, Acc: 0.0982\n",
      "\u001b[1m1/1\u001b[0m \u001b[32m━━━━━━━━━━━━━━━━━━━━\u001b[0m\u001b[37m\u001b[0m \u001b[1m0s\u001b[0m 22ms/step\n",
      "  Batch 10/19 - Loss: 4.2203, Acc: 0.0970\n",
      "\u001b[1m1/1\u001b[0m \u001b[32m━━━━━━━━━━━━━━━━━━━━\u001b[0m\u001b[37m\u001b[0m \u001b[1m0s\u001b[0m 22ms/step\n",
      "  Batch 11/19 - Loss: 4.1969, Acc: 0.0938\n",
      "\u001b[1m1/1\u001b[0m \u001b[32m━━━━━━━━━━━━━━━━━━━━\u001b[0m\u001b[37m\u001b[0m \u001b[1m0s\u001b[0m 22ms/step\n",
      "  Batch 12/19 - Loss: 4.1532, Acc: 0.0968\n",
      "\u001b[1m1/1\u001b[0m \u001b[32m━━━━━━━━━━━━━━━━━━━━\u001b[0m\u001b[37m\u001b[0m \u001b[1m0s\u001b[0m 22ms/step\n",
      "  Batch 13/19 - Loss: 4.1091, Acc: 0.1016\n",
      "\u001b[1m1/1\u001b[0m \u001b[32m━━━━━━━━━━━━━━━━━━━━\u001b[0m\u001b[37m\u001b[0m \u001b[1m0s\u001b[0m 22ms/step\n",
      "  Batch 14/19 - Loss: 4.0720, Acc: 0.1042\n",
      "\u001b[1m1/1\u001b[0m \u001b[32m━━━━━━━━━━━━━━━━━━━━\u001b[0m\u001b[37m\u001b[0m \u001b[1m0s\u001b[0m 21ms/step\n",
      "  Batch 15/19 - Loss: 4.0458, Acc: 0.1029\n",
      "\u001b[1m1/1\u001b[0m \u001b[32m━━━━━━━━━━━━━━━━━━━━\u001b[0m\u001b[37m\u001b[0m \u001b[1m0s\u001b[0m 23ms/step\n",
      "  Batch 16/19 - Loss: 4.0310, Acc: 0.1018\n",
      "\u001b[1m1/1\u001b[0m \u001b[32m━━━━━━━━━━━━━━━━━━━━\u001b[0m\u001b[37m\u001b[0m \u001b[1m0s\u001b[0m 22ms/step\n",
      "  Batch 17/19 - Loss: 4.0160, Acc: 0.0990\n",
      "\u001b[1m1/1\u001b[0m \u001b[32m━━━━━━━━━━━━━━━━━━━━\u001b[0m\u001b[37m\u001b[0m \u001b[1m0s\u001b[0m 22ms/step\n",
      "  Batch 18/19 - Loss: 3.9955, Acc: 0.0980\n",
      "\u001b[1m1/1\u001b[0m \u001b[32m━━━━━━━━━━━━━━━━━━━━\u001b[0m\u001b[37m\u001b[0m \u001b[1m0s\u001b[0m 22ms/step\n",
      "  Batch 19/19 - Loss: 3.9649, Acc: 0.1003\n",
      "\u001b[1m1/1\u001b[0m \u001b[32m━━━━━━━━━━━━━━━━━━━━\u001b[0m\u001b[37m\u001b[0m \u001b[1m0s\u001b[0m 22ms/step\n",
      "Epoch 3/5\n",
      "  Batch 1/19 - Loss: 3.9369, Acc: 0.0994\n",
      "\u001b[1m1/1\u001b[0m \u001b[32m━━━━━━━━━━━━━━━━━━━━\u001b[0m\u001b[37m\u001b[0m \u001b[1m0s\u001b[0m 22ms/step\n",
      "  Batch 2/19 - Loss: 3.9021, Acc: 0.1031\n",
      "\u001b[1m1/1\u001b[0m \u001b[32m━━━━━━━━━━━━━━━━━━━━\u001b[0m\u001b[37m\u001b[0m \u001b[1m0s\u001b[0m 22ms/step\n",
      "  Batch 3/19 - Loss: 3.8773, Acc: 0.1052\n",
      "\u001b[1m1/1\u001b[0m \u001b[32m━━━━━━━━━━━━━━━━━━━━\u001b[0m\u001b[37m\u001b[0m \u001b[1m0s\u001b[0m 30ms/step\n",
      "  Batch 4/19 - Loss: 3.8579, Acc: 0.1027\n",
      "\u001b[1m1/1\u001b[0m \u001b[32m━━━━━━━━━━━━━━━━━━━━\u001b[0m\u001b[37m\u001b[0m \u001b[1m0s\u001b[0m 21ms/step\n",
      "  Batch 5/19 - Loss: 3.8438, Acc: 0.1003\n",
      "\u001b[1m1/1\u001b[0m \u001b[32m━━━━━━━━━━━━━━━━━━━━\u001b[0m\u001b[37m\u001b[0m \u001b[1m0s\u001b[0m 29ms/step\n",
      "  Batch 6/19 - Loss: 3.8249, Acc: 0.1009\n",
      "\u001b[1m1/1\u001b[0m \u001b[32m━━━━━━━━━━━━━━━━━━━━\u001b[0m\u001b[37m\u001b[0m \u001b[1m0s\u001b[0m 22ms/step\n",
      "  Batch 7/19 - Loss: 3.8053, Acc: 0.1028\n",
      "\u001b[1m1/1\u001b[0m \u001b[32m━━━━━━━━━━━━━━━━━━━━\u001b[0m\u001b[37m\u001b[0m \u001b[1m0s\u001b[0m 22ms/step\n",
      "  Batch 8/19 - Loss: 3.7820, Acc: 0.1060\n",
      "\u001b[1m1/1\u001b[0m \u001b[32m━━━━━━━━━━━━━━━━━━━━\u001b[0m\u001b[37m\u001b[0m \u001b[1m0s\u001b[0m 21ms/step\n",
      "  Batch 9/19 - Loss: 3.7518, Acc: 0.1104\n",
      "\u001b[1m1/1\u001b[0m \u001b[32m━━━━━━━━━━━━━━━━━━━━\u001b[0m\u001b[37m\u001b[0m \u001b[1m0s\u001b[0m 22ms/step\n",
      "  Batch 10/19 - Loss: 3.7363, Acc: 0.1081\n",
      "\u001b[1m1/1\u001b[0m \u001b[32m━━━━━━━━━━━━━━━━━━━━\u001b[0m\u001b[37m\u001b[0m \u001b[1m0s\u001b[0m 22ms/step\n",
      "  Batch 11/19 - Loss: 3.7188, Acc: 0.1097\n",
      "\u001b[1m1/1\u001b[0m \u001b[32m━━━━━━━━━━━━━━━━━━━━\u001b[0m\u001b[37m\u001b[0m \u001b[1m0s\u001b[0m 22ms/step\n",
      "  Batch 12/19 - Loss: 3.7088, Acc: 0.1100\n",
      "\u001b[1m1/1\u001b[0m \u001b[32m━━━━━━━━━━━━━━━━━━━━\u001b[0m\u001b[37m\u001b[0m \u001b[1m0s\u001b[0m 22ms/step\n",
      "  Batch 13/19 - Loss: 3.6882, Acc: 0.1115\n",
      "\u001b[1m1/1\u001b[0m \u001b[32m━━━━━━━━━━━━━━━━━━━━\u001b[0m\u001b[37m\u001b[0m \u001b[1m0s\u001b[0m 22ms/step\n",
      "  Batch 14/19 - Loss: 3.6783, Acc: 0.1118\n",
      "\u001b[1m1/1\u001b[0m \u001b[32m━━━━━━━━━━━━━━━━━━━━\u001b[0m\u001b[37m\u001b[0m \u001b[1m0s\u001b[0m 22ms/step\n",
      "  Batch 15/19 - Loss: 3.6672, Acc: 0.1108\n",
      "\u001b[1m1/1\u001b[0m \u001b[32m━━━━━━━━━━━━━━━━━━━━\u001b[0m\u001b[37m\u001b[0m \u001b[1m0s\u001b[0m 22ms/step\n",
      "  Batch 16/19 - Loss: 3.6527, Acc: 0.1111\n",
      "\u001b[1m1/1\u001b[0m \u001b[32m━━━━━━━━━━━━━━━━━━━━\u001b[0m\u001b[37m\u001b[0m \u001b[1m0s\u001b[0m 22ms/step\n",
      "  Batch 17/19 - Loss: 3.6345, Acc: 0.1148\n",
      "\u001b[1m1/1\u001b[0m \u001b[32m━━━━━━━━━━━━━━━━━━━━\u001b[0m\u001b[37m\u001b[0m \u001b[1m0s\u001b[0m 22ms/step\n",
      "  Batch 18/19 - Loss: 3.6269, Acc: 0.1161\n",
      "\u001b[1m1/1\u001b[0m \u001b[32m━━━━━━━━━━━━━━━━━━━━\u001b[0m\u001b[37m\u001b[0m \u001b[1m0s\u001b[0m 22ms/step\n",
      "  Batch 19/19 - Loss: 3.6153, Acc: 0.1151\n",
      "\u001b[1m1/1\u001b[0m \u001b[32m━━━━━━━━━━━━━━━━━━━━\u001b[0m\u001b[37m\u001b[0m \u001b[1m0s\u001b[0m 22ms/step\n",
      "Epoch 4/5\n",
      "  Batch 1/19 - Loss: 3.6042, Acc: 0.1142\n",
      "\u001b[1m1/1\u001b[0m \u001b[32m━━━━━━━━━━━━━━━━━━━━\u001b[0m\u001b[37m\u001b[0m \u001b[1m0s\u001b[0m 22ms/step\n",
      "  Batch 2/19 - Loss: 3.5916, Acc: 0.1155\n",
      "\u001b[1m1/1\u001b[0m \u001b[32m━━━━━━━━━━━━━━━━━━━━\u001b[0m\u001b[37m\u001b[0m \u001b[1m0s\u001b[0m 22ms/step\n",
      "  Batch 3/19 - Loss: 3.5858, Acc: 0.1135\n",
      "\u001b[1m1/1\u001b[0m \u001b[32m━━━━━━━━━━━━━━━━━━━━\u001b[0m\u001b[37m\u001b[0m \u001b[1m0s\u001b[0m 22ms/step\n",
      "  Batch 4/19 - Loss: 3.5749, Acc: 0.1127\n",
      "\u001b[1m1/1\u001b[0m \u001b[32m━━━━━━━━━━━━━━━━━━━━\u001b[0m\u001b[37m\u001b[0m \u001b[1m0s\u001b[0m 22ms/step\n",
      "  Batch 5/19 - Loss: 3.5695, Acc: 0.1109\n",
      "\u001b[1m1/1\u001b[0m \u001b[32m━━━━━━━━━━━━━━━━━━━━\u001b[0m\u001b[37m\u001b[0m \u001b[1m0s\u001b[0m 22ms/step\n",
      "  Batch 6/19 - Loss: 3.5549, Acc: 0.1131\n",
      "\u001b[1m1/1\u001b[0m \u001b[32m━━━━━━━━━━━━━━━━━━━━\u001b[0m\u001b[37m\u001b[0m \u001b[1m0s\u001b[0m 23ms/step\n",
      "  Batch 7/19 - Loss: 3.5498, Acc: 0.1143\n",
      "\u001b[1m1/1\u001b[0m \u001b[32m━━━━━━━━━━━━━━━━━━━━\u001b[0m\u001b[37m\u001b[0m \u001b[1m0s\u001b[0m 22ms/step\n",
      "  Batch 8/19 - Loss: 3.5365, Acc: 0.1144\n",
      "\u001b[1m1/1\u001b[0m \u001b[32m━━━━━━━━━━━━━━━━━━━━\u001b[0m\u001b[37m\u001b[0m \u001b[1m0s\u001b[0m 23ms/step\n",
      "  Batch 9/19 - Loss: 3.5186, Acc: 0.1193\n",
      "\u001b[1m1/1\u001b[0m \u001b[32m━━━━━━━━━━━━━━━━━━━━\u001b[0m\u001b[37m\u001b[0m \u001b[1m0s\u001b[0m 22ms/step\n",
      "  Batch 10/19 - Loss: 3.5115, Acc: 0.1175\n",
      "\u001b[1m1/1\u001b[0m \u001b[32m━━━━━━━━━━━━━━━━━━━━\u001b[0m\u001b[37m\u001b[0m \u001b[1m0s\u001b[0m 45ms/step\n",
      "  Batch 11/19 - Loss: 3.5025, Acc: 0.1167\n",
      "\u001b[1m1/1\u001b[0m \u001b[32m━━━━━━━━━━━━━━━━━━━━\u001b[0m\u001b[37m\u001b[0m \u001b[1m0s\u001b[0m 21ms/step\n",
      "  Batch 12/19 - Loss: 3.5004, Acc: 0.1168\n",
      "\u001b[1m1/1\u001b[0m \u001b[32m━━━━━━━━━━━━━━━━━━━━\u001b[0m\u001b[37m\u001b[0m \u001b[1m0s\u001b[0m 22ms/step\n",
      "  Batch 13/19 - Loss: 3.4992, Acc: 0.1152\n",
      "\u001b[1m1/1\u001b[0m \u001b[32m━━━━━━━━━━━━━━━━━━━━\u001b[0m\u001b[37m\u001b[0m \u001b[1m0s\u001b[0m 21ms/step\n",
      "  Batch 14/19 - Loss: 3.4940, Acc: 0.1153\n",
      "\u001b[1m1/1\u001b[0m \u001b[32m━━━━━━━━━━━━━━━━━━━━\u001b[0m\u001b[37m\u001b[0m \u001b[1m0s\u001b[0m 22ms/step\n",
      "  Batch 15/19 - Loss: 3.4873, Acc: 0.1155\n",
      "\u001b[1m1/1\u001b[0m \u001b[32m━━━━━━━━━━━━━━━━━━━━\u001b[0m\u001b[37m\u001b[0m \u001b[1m0s\u001b[0m 22ms/step\n",
      "  Batch 16/19 - Loss: 3.4795, Acc: 0.1156\n",
      "\u001b[1m1/1\u001b[0m \u001b[32m━━━━━━━━━━━━━━━━━━━━\u001b[0m\u001b[37m\u001b[0m \u001b[1m0s\u001b[0m 21ms/step\n",
      "  Batch 17/19 - Loss: 3.4716, Acc: 0.1166\n",
      "\u001b[1m1/1\u001b[0m \u001b[32m━━━━━━━━━━━━━━━━━━━━\u001b[0m\u001b[37m\u001b[0m \u001b[1m0s\u001b[0m 21ms/step\n",
      "  Batch 18/19 - Loss: 3.4628, Acc: 0.1175\n",
      "\u001b[1m1/1\u001b[0m \u001b[32m━━━━━━━━━━━━━━━━━━━━\u001b[0m\u001b[37m\u001b[0m \u001b[1m0s\u001b[0m 22ms/step\n",
      "  Batch 19/19 - Loss: 3.4537, Acc: 0.1192\n",
      "\u001b[1m1/1\u001b[0m \u001b[32m━━━━━━━━━━━━━━━━━━━━\u001b[0m\u001b[37m\u001b[0m \u001b[1m0s\u001b[0m 24ms/step\n",
      "Epoch 5/5\n",
      "  Batch 1/19 - Loss: 3.4495, Acc: 0.1193\n",
      "\u001b[1m1/1\u001b[0m \u001b[32m━━━━━━━━━━━━━━━━━━━━\u001b[0m\u001b[37m\u001b[0m \u001b[1m0s\u001b[0m 23ms/step\n",
      "  Batch 2/19 - Loss: 3.4393, Acc: 0.1202\n",
      "\u001b[1m1/1\u001b[0m \u001b[32m━━━━━━━━━━━━━━━━━━━━\u001b[0m\u001b[37m\u001b[0m \u001b[1m0s\u001b[0m 22ms/step\n",
      "  Batch 3/19 - Loss: 3.4351, Acc: 0.1195\n",
      "\u001b[1m1/1\u001b[0m \u001b[32m━━━━━━━━━━━━━━━━━━━━\u001b[0m\u001b[37m\u001b[0m \u001b[1m0s\u001b[0m 22ms/step\n",
      "  Batch 4/19 - Loss: 3.4282, Acc: 0.1219\n",
      "\u001b[1m1/1\u001b[0m \u001b[32m━━━━━━━━━━━━━━━━━━━━\u001b[0m\u001b[37m\u001b[0m \u001b[1m0s\u001b[0m 22ms/step\n",
      "  Batch 5/19 - Loss: 3.4218, Acc: 0.1211\n",
      "\u001b[1m1/1\u001b[0m \u001b[32m━━━━━━━━━━━━━━━━━━━━\u001b[0m\u001b[37m\u001b[0m \u001b[1m0s\u001b[0m 23ms/step\n",
      "  Batch 6/19 - Loss: 3.4138, Acc: 0.1212\n",
      "\u001b[1m1/1\u001b[0m \u001b[32m━━━━━━━━━━━━━━━━━━━━\u001b[0m\u001b[37m\u001b[0m \u001b[1m0s\u001b[0m 23ms/step\n",
      "  Batch 7/19 - Loss: 3.4050, Acc: 0.1227\n",
      "\u001b[1m1/1\u001b[0m \u001b[32m━━━━━━━━━━━━━━━━━━━━\u001b[0m\u001b[37m\u001b[0m \u001b[1m0s\u001b[0m 23ms/step\n",
      "  Batch 8/19 - Loss: 3.3989, Acc: 0.1220\n",
      "\u001b[1m1/1\u001b[0m \u001b[32m━━━━━━━━━━━━━━━━━━━━\u001b[0m\u001b[37m\u001b[0m \u001b[1m0s\u001b[0m 23ms/step\n",
      "  Batch 9/19 - Loss: 3.3953, Acc: 0.1213\n",
      "\u001b[1m1/1\u001b[0m \u001b[32m━━━━━━━━━━━━━━━━━━━━\u001b[0m\u001b[37m\u001b[0m \u001b[1m0s\u001b[0m 23ms/step\n",
      "  Batch 10/19 - Loss: 3.3892, Acc: 0.1199\n",
      "\u001b[1m1/1\u001b[0m \u001b[32m━━━━━━━━━━━━━━━━━━━━\u001b[0m\u001b[37m\u001b[0m \u001b[1m0s\u001b[0m 23ms/step\n",
      "  Batch 11/19 - Loss: 3.3825, Acc: 0.1193\n",
      "\u001b[1m1/1\u001b[0m \u001b[32m━━━━━━━━━━━━━━━━━━━━\u001b[0m\u001b[37m\u001b[0m \u001b[1m0s\u001b[0m 23ms/step\n",
      "  Batch 12/19 - Loss: 3.3704, Acc: 0.1207\n",
      "\u001b[1m1/1\u001b[0m \u001b[32m━━━━━━━━━━━━━━━━━━━━\u001b[0m\u001b[37m\u001b[0m \u001b[1m0s\u001b[0m 24ms/step\n",
      "  Batch 13/19 - Loss: 3.3642, Acc: 0.1201\n",
      "\u001b[1m1/1\u001b[0m \u001b[32m━━━━━━━━━━━━━━━━━━━━\u001b[0m\u001b[37m\u001b[0m \u001b[1m0s\u001b[0m 23ms/step\n",
      "  Batch 14/19 - Loss: 3.3606, Acc: 0.1187\n",
      "\u001b[1m1/1\u001b[0m \u001b[32m━━━━━━━━━━━━━━━━━━━━\u001b[0m\u001b[37m\u001b[0m \u001b[1m0s\u001b[0m 23ms/step\n",
      "  Batch 15/19 - Loss: 3.3578, Acc: 0.1181\n",
      "\u001b[1m1/1\u001b[0m \u001b[32m━━━━━━━━━━━━━━━━━━━━\u001b[0m\u001b[37m\u001b[0m \u001b[1m0s\u001b[0m 22ms/step\n",
      "  Batch 16/19 - Loss: 3.3509, Acc: 0.1196\n",
      "\u001b[1m1/1\u001b[0m \u001b[32m━━━━━━━━━━━━━━━━━━━━\u001b[0m\u001b[37m\u001b[0m \u001b[1m0s\u001b[0m 23ms/step\n",
      "  Batch 17/19 - Loss: 3.3478, Acc: 0.1196\n",
      "\u001b[1m1/1\u001b[0m \u001b[32m━━━━━━━━━━━━━━━━━━━━\u001b[0m\u001b[37m\u001b[0m \u001b[1m0s\u001b[0m 23ms/step\n",
      "  Batch 18/19 - Loss: 3.3425, Acc: 0.1197\n",
      "\u001b[1m1/1\u001b[0m \u001b[32m━━━━━━━━━━━━━━━━━━━━\u001b[0m\u001b[37m\u001b[0m \u001b[1m0s\u001b[0m 23ms/step\n",
      "  Batch 19/19 - Loss: 3.3359, Acc: 0.1197\n",
      "\u001b[1m1/1\u001b[0m \u001b[32m━━━━━━━━━━━━━━━━━━━━\u001b[0m\u001b[37m\u001b[0m \u001b[1m0s\u001b[0m 23ms/step\n",
      "Training complete and all normalized plots saved.\n"
     ]
    }
   ],
   "source": [
    "# Training loop with custom plotting for each batch\n",
    "for epoch in range(1, num_epochs+1):\n",
    "    print(f\"Epoch {epoch}/{num_epochs}\")\n",
    "    # Create subfolder for this epoch.\n",
    "    epoch_folder = os.path.join(base_plot_dir, f\"epoch_{epoch}\")\n",
    "    os.makedirs(epoch_folder, exist_ok=True)\n",
    "    \n",
    "    batch_index = 0\n",
    "    # Loop over batches; note that train_generator is an infinite generator.\n",
    "    while batch_index < batches_per_epoch:\n",
    "        batch_x, batch_y = next(train_generator)\n",
    "        batch_x, batch_y= batch_x[:16], batch_y[:16]\n",
    "        # Train on current batch\n",
    "        loss, acc = model.train_on_batch(batch_x, batch_y)\n",
    "        print(f\"  Batch {batch_index+1}/{batches_per_epoch} - Loss: {loss:.4f}, Acc: {acc:.4f}\")\n",
    "        \n",
    "        # Get intermediate activations for the batch.\n",
    "        activations = debug_model.predict(batch_x)\n",
    "        num_pairs = len(layer_names)  # number of (conv, bn) pairs\n",
    "        \n",
    "        # Create a figure with one row per BN pair and three columns.\n",
    "        fig, axs = plt.subplots(num_pairs, 3, figsize=(18, 5*num_pairs))\n",
    "        # If there's only one pair, axs might not be a 2D array.\n",
    "        if num_pairs == 1:\n",
    "            axs = np.expand_dims(axs, axis=0)\n",
    "        \n",
    "        # For each BN pair, compute and plot the required visualizations.\n",
    "        for idx in range(num_pairs):\n",
    "            conv_act = activations[2*idx]       # before BN\n",
    "            bn_act = activations[2*idx + 1]       # after BN\n",
    "            \n",
    "            # Flatten the activations for plotting\n",
    "            conv_flat = conv_act.flatten()\n",
    "            bn_flat = bn_act.flatten()\n",
    "            \n",
    "            # 1. Histogram (or line plot) showing distribution before and after BN\n",
    "            ax0 = axs[idx, 0]\n",
    "            ax0.hist(conv_flat, bins=50, alpha=0.5, label=\"Before BN\")\n",
    "            ax0.hist(bn_flat, bins=50, alpha=0.5, label=\"After BN\")\n",
    "            ax0.set_title(f\"Activation Distribution\\n{layer_names[idx][0]} vs {layer_names[idx][1]}\")\n",
    "            ax0.legend()\n",
    "            \n",
    "            # 2. Box plot showing how BN affects activation values\n",
    "            ax1 = axs[idx, 1]\n",
    "            ax1.boxplot([conv_flat, bn_flat], labels=[\"Before BN\", \"After BN\"])\n",
    "            ax1.set_title(\"Box Plot\")\n",
    "            \n",
    "            # 3. Mean and variance plot over training batches\n",
    "            ax2 = axs[idx, 2]\n",
    "            means = [np.mean(conv_flat), np.mean(bn_flat)]\n",
    "            variances = [np.var(conv_flat), np.var(bn_flat)]\n",
    "            ax2.plot([\"Before BN\", \"After BN\"], means, marker='o', label=\"Mean\")\n",
    "            ax2.plot([\"Before BN\", \"After BN\"], variances, marker='o', label=\"Variance\")\n",
    "            ax2.set_title(\"Mean and Variance\")\n",
    "            ax2.legend()\n",
    "        \n",
    "        # Adjust layout and save the figure.\n",
    "        plt.tight_layout()\n",
    "        # Name the file as specified; replace studentname and regnumber accordingly.\n",
    "        filename = f\"batch_{batch_index+1}_{student_name}-{reg_number}-noramlizedgraph.jpeg\"\n",
    "        plot_path = os.path.join(epoch_folder, filename)\n",
    "        plt.savefig(plot_path)\n",
    "        plt.close(fig)\n",
    "\n",
    "        # Delete activations and force garbage collection\n",
    "        del activations\n",
    "        gc.collect()\n",
    "        \n",
    "        batch_index += 1\n",
    "\n",
    "print(\"Training complete and all normalized plots saved.\")\n"
   ]
  },
  {
   "cell_type": "markdown",
   "id": "581d7cae",
   "metadata": {
    "papermill": {
     "duration": 0.011278,
     "end_time": "2025-03-25T14:34:03.506423",
     "exception": false,
     "start_time": "2025-03-25T14:34:03.495145",
     "status": "completed"
    },
    "tags": []
   },
   "source": [
    "## Model Training"
   ]
  },
  {
   "cell_type": "code",
   "execution_count": 9,
   "id": "489322a7",
   "metadata": {
    "execution": {
     "iopub.execute_input": "2025-03-25T14:34:03.530679Z",
     "iopub.status.busy": "2025-03-25T14:34:03.530343Z",
     "iopub.status.idle": "2025-03-25T14:34:03.658603Z",
     "shell.execute_reply": "2025-03-25T14:34:03.657674Z"
    },
    "papermill": {
     "duration": 0.142101,
     "end_time": "2025-03-25T14:34:03.660123",
     "exception": false,
     "start_time": "2025-03-25T14:34:03.518022",
     "status": "completed"
    },
    "tags": []
   },
   "outputs": [
    {
     "name": "stdout",
     "output_type": "stream",
     "text": [
      "Model Parameters (layer-by-layer):\n",
      "Layer 1 (Conv2D):\n",
      "  Weight 1 shape: (3, 3, 3, 8)\n",
      "  Weight 2 shape: (8,)\n",
      "  Trainable parameters: 224\n",
      "Layer 2 (BatchNormalization):\n",
      "  Weight 1 shape: (8,)\n",
      "  Weight 2 shape: (8,)\n",
      "  Weight 3 shape: (8,)\n",
      "  Weight 4 shape: (8,)\n",
      "  Trainable parameters: 32\n",
      "Layer 3 (MaxPooling2D):\n",
      "  Trainable parameters: 0\n",
      "Layer 4 (Conv2D):\n",
      "  Weight 1 shape: (3, 3, 8, 16)\n",
      "  Weight 2 shape: (16,)\n",
      "  Trainable parameters: 1168\n",
      "Layer 5 (BatchNormalization):\n",
      "  Weight 1 shape: (16,)\n",
      "  Weight 2 shape: (16,)\n",
      "  Weight 3 shape: (16,)\n",
      "  Weight 4 shape: (16,)\n",
      "  Trainable parameters: 64\n",
      "Layer 6 (MaxPooling2D):\n",
      "  Trainable parameters: 0\n",
      "Layer 7 (Conv2D):\n",
      "  Weight 1 shape: (3, 3, 16, 32)\n",
      "  Weight 2 shape: (32,)\n",
      "  Trainable parameters: 4640\n",
      "Layer 8 (BatchNormalization):\n",
      "  Weight 1 shape: (32,)\n",
      "  Weight 2 shape: (32,)\n",
      "  Weight 3 shape: (32,)\n",
      "  Weight 4 shape: (32,)\n",
      "  Trainable parameters: 128\n",
      "Layer 9 (MaxPooling2D):\n",
      "  Trainable parameters: 0\n",
      "Layer 10 (Conv2D):\n",
      "  Weight 1 shape: (3, 3, 32, 64)\n",
      "  Weight 2 shape: (64,)\n",
      "  Trainable parameters: 18496\n",
      "Layer 11 (BatchNormalization):\n",
      "  Weight 1 shape: (64,)\n",
      "  Weight 2 shape: (64,)\n",
      "  Weight 3 shape: (64,)\n",
      "  Weight 4 shape: (64,)\n",
      "  Trainable parameters: 256\n",
      "Layer 12 (MaxPooling2D):\n",
      "  Trainable parameters: 0\n",
      "Layer 13 (Flatten):\n",
      "  Trainable parameters: 0\n",
      "Layer 14 (Dense):\n",
      "  Weight 1 shape: (16384, 128)\n",
      "  Weight 2 shape: (128,)\n",
      "  Trainable parameters: 2097280\n",
      "Layer 15 (Dense):\n",
      "  Weight 1 shape: (128, 64)\n",
      "  Weight 2 shape: (64,)\n",
      "  Trainable parameters: 8256\n",
      "Layer 16 (Dropout):\n",
      "  Trainable parameters: 0\n",
      "Layer 17 (Dense):\n",
      "  Weight 1 shape: (64, 21)\n",
      "  Weight 2 shape: (21,)\n",
      "  Trainable parameters: 1365\n",
      "\n",
      "Total trainable parameters in the model: 2131909\n"
     ]
    }
   ],
   "source": [
    "# Build the model\n",
    "model = create_cnn_fe_model(input_shape=input_shape, num_classes=num_classes)\n",
    "\n",
    "# Display layer-by-layer parameters once before training\n",
    "print(\"Model Parameters (layer-by-layer):\")\n",
    "total_trainable_params = 0\n",
    "\n",
    "for i, layer in enumerate(model.layers):\n",
    "    weights = layer.get_weights()\n",
    "    trainable_params = sum(w.size for w in weights)\n",
    "    total_trainable_params += trainable_params\n",
    "\n",
    "    print(f\"Layer {i+1} ({layer.__class__.__name__}):\")\n",
    "    for j, w in enumerate(weights):\n",
    "        print(f\"  Weight {j+1} shape: {w.shape}\")\n",
    "    print(f\"  Trainable parameters: {trainable_params}\")\n",
    "\n",
    "print(f\"\\nTotal trainable parameters in the model: {total_trainable_params}\")\n"
   ]
  },
  {
   "cell_type": "code",
   "execution_count": 10,
   "id": "0e7acd72",
   "metadata": {
    "execution": {
     "iopub.execute_input": "2025-03-25T14:34:03.685052Z",
     "iopub.status.busy": "2025-03-25T14:34:03.684773Z",
     "iopub.status.idle": "2025-03-25T15:11:15.071027Z",
     "shell.execute_reply": "2025-03-25T15:11:15.070073Z"
    },
    "papermill": {
     "duration": 2231.406889,
     "end_time": "2025-03-25T15:11:15.079013",
     "exception": false,
     "start_time": "2025-03-25T14:34:03.672124",
     "status": "completed"
    },
    "tags": []
   },
   "outputs": [
    {
     "name": "stdout",
     "output_type": "stream",
     "text": [
      "\n",
      "Epoch 1/100\n"
     ]
    },
    {
     "name": "stderr",
     "output_type": "stream",
     "text": [
      "Training Epoch 1: 100%|██████████| 19/19 [00:25<00:00,  1.32s/batch, acc=0.266, loss=2.52]\n"
     ]
    },
    {
     "name": "stdout",
     "output_type": "stream",
     "text": [
      "Epoch 1 - Loss: 3.9125, Accuracy: 0.1454 | Val Loss: 3.4549, Val Accuracy: 0.0521\n",
      "Best model saved with Validation Accuracy: 0.0521\n",
      "\n",
      "Epoch 2/100\n"
     ]
    },
    {
     "name": "stderr",
     "output_type": "stream",
     "text": [
      "Training Epoch 2: 100%|██████████| 19/19 [00:20<00:00,  1.10s/batch, acc=0.328, loss=2.28]\n"
     ]
    },
    {
     "name": "stdout",
     "output_type": "stream",
     "text": [
      "Epoch 2 - Loss: 2.5911, Accuracy: 0.2247 | Val Loss: 6.6247, Val Accuracy: 0.0573\n",
      "Best model saved with Validation Accuracy: 0.0573\n",
      "\n",
      "Epoch 3/100\n"
     ]
    },
    {
     "name": "stderr",
     "output_type": "stream",
     "text": [
      "Training Epoch 3: 100%|██████████| 19/19 [00:20<00:00,  1.08s/batch, acc=0.406, loss=2.21]\n"
     ]
    },
    {
     "name": "stdout",
     "output_type": "stream",
     "text": [
      "Epoch 3 - Loss: 2.4375, Accuracy: 0.2860 | Val Loss: 8.7868, Val Accuracy: 0.0573\n",
      "\n",
      "Epoch 4/100\n"
     ]
    },
    {
     "name": "stderr",
     "output_type": "stream",
     "text": [
      "Training Epoch 4: 100%|██████████| 19/19 [00:21<00:00,  1.11s/batch, acc=0.297, loss=2.72]\n"
     ]
    },
    {
     "name": "stdout",
     "output_type": "stream",
     "text": [
      "Epoch 4 - Loss: 2.3475, Accuracy: 0.3087 | Val Loss: 11.2661, Val Accuracy: 0.0521\n",
      "\n",
      "Epoch 5/100\n"
     ]
    },
    {
     "name": "stderr",
     "output_type": "stream",
     "text": [
      "Training Epoch 5: 100%|██████████| 19/19 [00:20<00:00,  1.10s/batch, acc=0.344, loss=2.07]\n"
     ]
    },
    {
     "name": "stdout",
     "output_type": "stream",
     "text": [
      "Epoch 5 - Loss: 2.1818, Accuracy: 0.3256 | Val Loss: 12.0010, Val Accuracy: 0.0521\n",
      "\n",
      "Epoch 6/100\n"
     ]
    },
    {
     "name": "stderr",
     "output_type": "stream",
     "text": [
      "Training Epoch 6: 100%|██████████| 19/19 [00:21<00:00,  1.11s/batch, acc=0.312, loss=2.59]\n"
     ]
    },
    {
     "name": "stdout",
     "output_type": "stream",
     "text": [
      "Epoch 6 - Loss: 2.1131, Accuracy: 0.3587 | Val Loss: 14.2343, Val Accuracy: 0.0521\n",
      "\n",
      "Epoch 7/100\n"
     ]
    },
    {
     "name": "stderr",
     "output_type": "stream",
     "text": [
      "Training Epoch 7: 100%|██████████| 19/19 [00:20<00:00,  1.08s/batch, acc=0.453, loss=1.78]\n"
     ]
    },
    {
     "name": "stdout",
     "output_type": "stream",
     "text": [
      "Epoch 7 - Loss: 1.9608, Accuracy: 0.3997 | Val Loss: 19.7901, Val Accuracy: 0.0000\n",
      "\n",
      "Epoch 8/100\n"
     ]
    },
    {
     "name": "stderr",
     "output_type": "stream",
     "text": [
      "Training Epoch 8: 100%|██████████| 19/19 [00:20<00:00,  1.10s/batch, acc=0.328, loss=2.09]\n"
     ]
    },
    {
     "name": "stdout",
     "output_type": "stream",
     "text": [
      "Epoch 8 - Loss: 1.9483, Accuracy: 0.4027 | Val Loss: 18.2836, Val Accuracy: 0.0521\n",
      "\n",
      "Epoch 9/100\n"
     ]
    },
    {
     "name": "stderr",
     "output_type": "stream",
     "text": [
      "Training Epoch 9: 100%|██████████| 19/19 [00:21<00:00,  1.11s/batch, acc=0.562, loss=1.61]\n"
     ]
    },
    {
     "name": "stdout",
     "output_type": "stream",
     "text": [
      "Epoch 9 - Loss: 1.8886, Accuracy: 0.4265 | Val Loss: 14.0273, Val Accuracy: 0.0547\n",
      "\n",
      "Epoch 10/100\n"
     ]
    },
    {
     "name": "stderr",
     "output_type": "stream",
     "text": [
      "Training Epoch 10: 100%|██████████| 19/19 [00:20<00:00,  1.07s/batch, acc=0.312, loss=2.1]\n"
     ]
    },
    {
     "name": "stdout",
     "output_type": "stream",
     "text": [
      "Epoch 10 - Loss: 1.7704, Accuracy: 0.4392 | Val Loss: 13.7423, Val Accuracy: 0.0677\n",
      "Best model saved with Validation Accuracy: 0.0677\n",
      "\n",
      "Epoch 11/100\n"
     ]
    },
    {
     "name": "stderr",
     "output_type": "stream",
     "text": [
      "Training Epoch 11: 100%|██████████| 19/19 [00:20<00:00,  1.09s/batch, acc=0.531, loss=1.34]\n"
     ]
    },
    {
     "name": "stdout",
     "output_type": "stream",
     "text": [
      "Epoch 11 - Loss: 1.6912, Accuracy: 0.4759 | Val Loss: 16.8673, Val Accuracy: 0.0599\n",
      "\n",
      "Epoch 12/100\n"
     ]
    },
    {
     "name": "stderr",
     "output_type": "stream",
     "text": [
      "Training Epoch 12: 100%|██████████| 19/19 [00:20<00:00,  1.10s/batch, acc=0.516, loss=1.51]\n"
     ]
    },
    {
     "name": "stdout",
     "output_type": "stream",
     "text": [
      "Epoch 12 - Loss: 1.7255, Accuracy: 0.4407 | Val Loss: 15.1226, Val Accuracy: 0.0521\n",
      "\n",
      "Epoch 13/100\n"
     ]
    },
    {
     "name": "stderr",
     "output_type": "stream",
     "text": [
      "Training Epoch 13: 100%|██████████| 19/19 [00:20<00:00,  1.09s/batch, acc=0.5, loss=1.41]\n"
     ]
    },
    {
     "name": "stdout",
     "output_type": "stream",
     "text": [
      "Epoch 13 - Loss: 1.6000, Accuracy: 0.4859 | Val Loss: 7.3927, Val Accuracy: 0.0645\n",
      "\n",
      "Epoch 14/100\n"
     ]
    },
    {
     "name": "stderr",
     "output_type": "stream",
     "text": [
      "Training Epoch 14: 100%|██████████| 19/19 [00:21<00:00,  1.11s/batch, acc=0.469, loss=1.5]\n"
     ]
    },
    {
     "name": "stdout",
     "output_type": "stream",
     "text": [
      "Epoch 14 - Loss: 1.5336, Accuracy: 0.5046 | Val Loss: 9.1387, Val Accuracy: 0.0078\n",
      "\n",
      "Epoch 15/100\n"
     ]
    },
    {
     "name": "stderr",
     "output_type": "stream",
     "text": [
      "Training Epoch 15: 100%|██████████| 19/19 [00:20<00:00,  1.09s/batch, acc=0.614, loss=1.37]\n"
     ]
    },
    {
     "name": "stdout",
     "output_type": "stream",
     "text": [
      "Epoch 15 - Loss: 1.4779, Accuracy: 0.5282 | Val Loss: 10.7474, Val Accuracy: 0.1120\n",
      "Best model saved with Validation Accuracy: 0.1120\n",
      "\n",
      "Epoch 16/100\n"
     ]
    },
    {
     "name": "stderr",
     "output_type": "stream",
     "text": [
      "Training Epoch 16: 100%|██████████| 19/19 [00:20<00:00,  1.10s/batch, acc=0.516, loss=1.54]\n"
     ]
    },
    {
     "name": "stdout",
     "output_type": "stream",
     "text": [
      "Epoch 16 - Loss: 1.4444, Accuracy: 0.5493 | Val Loss: 4.6765, Val Accuracy: 0.2170\n",
      "Best model saved with Validation Accuracy: 0.2170\n",
      "\n",
      "Epoch 17/100\n"
     ]
    },
    {
     "name": "stderr",
     "output_type": "stream",
     "text": [
      "Training Epoch 17: 100%|██████████| 19/19 [00:20<00:00,  1.09s/batch, acc=0.594, loss=1.17]\n"
     ]
    },
    {
     "name": "stdout",
     "output_type": "stream",
     "text": [
      "Epoch 17 - Loss: 1.3573, Accuracy: 0.5625 | Val Loss: 3.0607, Val Accuracy: 0.2746\n",
      "Best model saved with Validation Accuracy: 0.2746\n",
      "\n",
      "Epoch 18/100\n"
     ]
    },
    {
     "name": "stderr",
     "output_type": "stream",
     "text": [
      "Training Epoch 18: 100%|██████████| 19/19 [00:20<00:00,  1.09s/batch, acc=0.547, loss=1.56]\n"
     ]
    },
    {
     "name": "stdout",
     "output_type": "stream",
     "text": [
      "Epoch 18 - Loss: 1.4034, Accuracy: 0.5464 | Val Loss: 2.8240, Val Accuracy: 0.2934\n",
      "Best model saved with Validation Accuracy: 0.2934\n",
      "\n",
      "Epoch 19/100\n"
     ]
    },
    {
     "name": "stderr",
     "output_type": "stream",
     "text": [
      "Training Epoch 19: 100%|██████████| 19/19 [00:20<00:00,  1.09s/batch, acc=0.531, loss=1.35]\n"
     ]
    },
    {
     "name": "stdout",
     "output_type": "stream",
     "text": [
      "Epoch 19 - Loss: 1.3618, Accuracy: 0.5513 | Val Loss: 2.3759, Val Accuracy: 0.3411\n",
      "Best model saved with Validation Accuracy: 0.3411\n",
      "\n",
      "Epoch 20/100\n"
     ]
    },
    {
     "name": "stderr",
     "output_type": "stream",
     "text": [
      "Training Epoch 20: 100%|██████████| 19/19 [00:20<00:00,  1.08s/batch, acc=0.656, loss=1.25]\n"
     ]
    },
    {
     "name": "stdout",
     "output_type": "stream",
     "text": [
      "Epoch 20 - Loss: 1.2758, Accuracy: 0.5916 | Val Loss: 2.2677, Val Accuracy: 0.3383\n",
      "\n",
      "Epoch 21/100\n"
     ]
    },
    {
     "name": "stderr",
     "output_type": "stream",
     "text": [
      "Training Epoch 21: 100%|██████████| 19/19 [00:20<00:00,  1.10s/batch, acc=0.516, loss=1.32]\n"
     ]
    },
    {
     "name": "stdout",
     "output_type": "stream",
     "text": [
      "Epoch 21 - Loss: 1.4011, Accuracy: 0.5563 | Val Loss: 2.7343, Val Accuracy: 0.3044\n",
      "\n",
      "Epoch 22/100\n"
     ]
    },
    {
     "name": "stderr",
     "output_type": "stream",
     "text": [
      "Training Epoch 22: 100%|██████████| 19/19 [00:20<00:00,  1.09s/batch, acc=0.516, loss=1.44]\n"
     ]
    },
    {
     "name": "stdout",
     "output_type": "stream",
     "text": [
      "Epoch 22 - Loss: 1.2820, Accuracy: 0.5751 | Val Loss: 2.1151, Val Accuracy: 0.4688\n",
      "Best model saved with Validation Accuracy: 0.4688\n",
      "\n",
      "Epoch 23/100\n"
     ]
    },
    {
     "name": "stderr",
     "output_type": "stream",
     "text": [
      "Training Epoch 23: 100%|██████████| 19/19 [00:20<00:00,  1.08s/batch, acc=0.625, loss=1.1]\n"
     ]
    },
    {
     "name": "stdout",
     "output_type": "stream",
     "text": [
      "Epoch 23 - Loss: 1.1914, Accuracy: 0.5887 | Val Loss: 1.6068, Val Accuracy: 0.4971\n",
      "Best model saved with Validation Accuracy: 0.4971\n",
      "\n",
      "Epoch 24/100\n"
     ]
    },
    {
     "name": "stderr",
     "output_type": "stream",
     "text": [
      "Training Epoch 24: 100%|██████████| 19/19 [00:20<00:00,  1.09s/batch, acc=0.703, loss=1.03]\n"
     ]
    },
    {
     "name": "stdout",
     "output_type": "stream",
     "text": [
      "Epoch 24 - Loss: 1.1497, Accuracy: 0.6236 | Val Loss: 2.8310, Val Accuracy: 0.4068\n",
      "\n",
      "Epoch 25/100\n"
     ]
    },
    {
     "name": "stderr",
     "output_type": "stream",
     "text": [
      "Training Epoch 25: 100%|██████████| 19/19 [00:20<00:00,  1.10s/batch, acc=0.641, loss=1.05]\n"
     ]
    },
    {
     "name": "stdout",
     "output_type": "stream",
     "text": [
      "Epoch 25 - Loss: 1.1730, Accuracy: 0.6145 | Val Loss: 3.7106, Val Accuracy: 0.3093\n",
      "\n",
      "Epoch 26/100\n"
     ]
    },
    {
     "name": "stderr",
     "output_type": "stream",
     "text": [
      "Training Epoch 26: 100%|██████████| 19/19 [00:20<00:00,  1.09s/batch, acc=0.547, loss=1.2]\n"
     ]
    },
    {
     "name": "stdout",
     "output_type": "stream",
     "text": [
      "Epoch 26 - Loss: 1.1302, Accuracy: 0.6132 | Val Loss: 1.8261, Val Accuracy: 0.4907\n",
      "\n",
      "Epoch 27/100\n"
     ]
    },
    {
     "name": "stderr",
     "output_type": "stream",
     "text": [
      "Training Epoch 27: 100%|██████████| 19/19 [00:20<00:00,  1.09s/batch, acc=0.812, loss=0.638]\n"
     ]
    },
    {
     "name": "stdout",
     "output_type": "stream",
     "text": [
      "Epoch 27 - Loss: 1.0390, Accuracy: 0.6569 | Val Loss: 3.7550, Val Accuracy: 0.3472\n",
      "\n",
      "Epoch 28/100\n"
     ]
    },
    {
     "name": "stderr",
     "output_type": "stream",
     "text": [
      "Training Epoch 28: 100%|██████████| 19/19 [00:21<00:00,  1.13s/batch, acc=0.594, loss=1.32]\n"
     ]
    },
    {
     "name": "stdout",
     "output_type": "stream",
     "text": [
      "Epoch 28 - Loss: 1.0493, Accuracy: 0.6536 | Val Loss: 1.4952, Val Accuracy: 0.5700\n",
      "Best model saved with Validation Accuracy: 0.5700\n",
      "\n",
      "Epoch 29/100\n"
     ]
    },
    {
     "name": "stderr",
     "output_type": "stream",
     "text": [
      "Training Epoch 29: 100%|██████████| 19/19 [00:20<00:00,  1.08s/batch, acc=0.828, loss=0.631]\n"
     ]
    },
    {
     "name": "stdout",
     "output_type": "stream",
     "text": [
      "Epoch 29 - Loss: 1.0455, Accuracy: 0.6397 | Val Loss: 1.1815, Val Accuracy: 0.6562\n",
      "Best model saved with Validation Accuracy: 0.6562\n",
      "\n",
      "Epoch 30/100\n"
     ]
    },
    {
     "name": "stderr",
     "output_type": "stream",
     "text": [
      "Training Epoch 30: 100%|██████████| 19/19 [00:20<00:00,  1.10s/batch, acc=0.672, loss=1.17]\n"
     ]
    },
    {
     "name": "stdout",
     "output_type": "stream",
     "text": [
      "Epoch 30 - Loss: 1.0042, Accuracy: 0.6679 | Val Loss: 1.4596, Val Accuracy: 0.5885\n",
      "\n",
      "Epoch 31/100\n"
     ]
    },
    {
     "name": "stderr",
     "output_type": "stream",
     "text": [
      "Training Epoch 31: 100%|██████████| 19/19 [00:20<00:00,  1.09s/batch, acc=0.688, loss=0.862]\n"
     ]
    },
    {
     "name": "stdout",
     "output_type": "stream",
     "text": [
      "Epoch 31 - Loss: 1.0216, Accuracy: 0.6421 | Val Loss: 2.0652, Val Accuracy: 0.5480\n",
      "\n",
      "Epoch 32/100\n"
     ]
    },
    {
     "name": "stderr",
     "output_type": "stream",
     "text": [
      "Training Epoch 32: 100%|██████████| 19/19 [00:20<00:00,  1.10s/batch, acc=0.609, loss=0.925]\n"
     ]
    },
    {
     "name": "stdout",
     "output_type": "stream",
     "text": [
      "Epoch 32 - Loss: 0.9444, Accuracy: 0.6826 | Val Loss: 1.2454, Val Accuracy: 0.6484\n",
      "\n",
      "Epoch 33/100\n"
     ]
    },
    {
     "name": "stderr",
     "output_type": "stream",
     "text": [
      "Training Epoch 33: 100%|██████████| 19/19 [00:20<00:00,  1.09s/batch, acc=0.594, loss=1.1]\n"
     ]
    },
    {
     "name": "stdout",
     "output_type": "stream",
     "text": [
      "Epoch 33 - Loss: 1.0457, Accuracy: 0.6452 | Val Loss: 1.1596, Val Accuracy: 0.6696\n",
      "Best model saved with Validation Accuracy: 0.6696\n",
      "\n",
      "Epoch 34/100\n"
     ]
    },
    {
     "name": "stderr",
     "output_type": "stream",
     "text": [
      "Training Epoch 34: 100%|██████████| 19/19 [00:20<00:00,  1.10s/batch, acc=0.719, loss=0.966]\n"
     ]
    },
    {
     "name": "stdout",
     "output_type": "stream",
     "text": [
      "Epoch 34 - Loss: 0.9929, Accuracy: 0.6790 | Val Loss: 1.2975, Val Accuracy: 0.6105\n",
      "\n",
      "Epoch 35/100\n"
     ]
    },
    {
     "name": "stderr",
     "output_type": "stream",
     "text": [
      "Training Epoch 35: 100%|██████████| 19/19 [00:21<00:00,  1.11s/batch, acc=0.636, loss=0.994]\n"
     ]
    },
    {
     "name": "stdout",
     "output_type": "stream",
     "text": [
      "Epoch 35 - Loss: 1.0195, Accuracy: 0.6536 | Val Loss: 1.6375, Val Accuracy: 0.6001\n",
      "\n",
      "Epoch 36/100\n"
     ]
    },
    {
     "name": "stderr",
     "output_type": "stream",
     "text": [
      "Training Epoch 36: 100%|██████████| 19/19 [00:20<00:00,  1.09s/batch, acc=0.672, loss=0.951]\n"
     ]
    },
    {
     "name": "stdout",
     "output_type": "stream",
     "text": [
      "Epoch 36 - Loss: 0.9774, Accuracy: 0.6727 | Val Loss: 1.4150, Val Accuracy: 0.6432\n",
      "\n",
      "Epoch 37/100\n"
     ]
    },
    {
     "name": "stderr",
     "output_type": "stream",
     "text": [
      "Training Epoch 37: 100%|██████████| 19/19 [00:20<00:00,  1.08s/batch, acc=0.641, loss=0.974]\n"
     ]
    },
    {
     "name": "stdout",
     "output_type": "stream",
     "text": [
      "Epoch 37 - Loss: 0.8613, Accuracy: 0.6863 | Val Loss: 1.1938, Val Accuracy: 0.6461\n",
      "\n",
      "Epoch 38/100\n"
     ]
    },
    {
     "name": "stderr",
     "output_type": "stream",
     "text": [
      "Training Epoch 38: 100%|██████████| 19/19 [00:20<00:00,  1.09s/batch, acc=0.688, loss=1.02]\n"
     ]
    },
    {
     "name": "stdout",
     "output_type": "stream",
     "text": [
      "Epoch 38 - Loss: 0.9136, Accuracy: 0.7058 | Val Loss: 2.1078, Val Accuracy: 0.4939\n",
      "\n",
      "Epoch 39/100\n"
     ]
    },
    {
     "name": "stderr",
     "output_type": "stream",
     "text": [
      "Training Epoch 39: 100%|██████████| 19/19 [00:20<00:00,  1.10s/batch, acc=0.562, loss=1.1]\n"
     ]
    },
    {
     "name": "stdout",
     "output_type": "stream",
     "text": [
      "Epoch 39 - Loss: 0.9243, Accuracy: 0.6871 | Val Loss: 1.7986, Val Accuracy: 0.6114\n",
      "\n",
      "Epoch 40/100\n"
     ]
    },
    {
     "name": "stderr",
     "output_type": "stream",
     "text": [
      "Training Epoch 40: 100%|██████████| 19/19 [00:20<00:00,  1.08s/batch, acc=0.641, loss=0.957]\n"
     ]
    },
    {
     "name": "stdout",
     "output_type": "stream",
     "text": [
      "Epoch 40 - Loss: 0.9028, Accuracy: 0.7038 | Val Loss: 0.9439, Val Accuracy: 0.6768\n",
      "Best model saved with Validation Accuracy: 0.6768\n",
      "\n",
      "Epoch 41/100\n"
     ]
    },
    {
     "name": "stderr",
     "output_type": "stream",
     "text": [
      "Training Epoch 41: 100%|██████████| 19/19 [00:20<00:00,  1.09s/batch, acc=0.672, loss=0.948]\n"
     ]
    },
    {
     "name": "stdout",
     "output_type": "stream",
     "text": [
      "Epoch 41 - Loss: 0.9122, Accuracy: 0.6879 | Val Loss: 1.5215, Val Accuracy: 0.5784\n",
      "\n",
      "Epoch 42/100\n"
     ]
    },
    {
     "name": "stderr",
     "output_type": "stream",
     "text": [
      "Training Epoch 42: 100%|██████████| 19/19 [00:21<00:00,  1.11s/batch, acc=0.75, loss=0.842]\n"
     ]
    },
    {
     "name": "stdout",
     "output_type": "stream",
     "text": [
      "Epoch 42 - Loss: 0.8565, Accuracy: 0.7153 | Val Loss: 1.8773, Val Accuracy: 0.5648\n",
      "\n",
      "Epoch 43/100\n"
     ]
    },
    {
     "name": "stderr",
     "output_type": "stream",
     "text": [
      "Training Epoch 43: 100%|██████████| 19/19 [00:20<00:00,  1.07s/batch, acc=0.75, loss=0.752]\n"
     ]
    },
    {
     "name": "stdout",
     "output_type": "stream",
     "text": [
      "Epoch 43 - Loss: 0.7892, Accuracy: 0.7342 | Val Loss: 0.9839, Val Accuracy: 0.7057\n",
      "Best model saved with Validation Accuracy: 0.7057\n",
      "\n",
      "Epoch 44/100\n"
     ]
    },
    {
     "name": "stderr",
     "output_type": "stream",
     "text": [
      "Training Epoch 44: 100%|██████████| 19/19 [00:20<00:00,  1.10s/batch, acc=0.688, loss=0.904]\n"
     ]
    },
    {
     "name": "stdout",
     "output_type": "stream",
     "text": [
      "Epoch 44 - Loss: 0.7570, Accuracy: 0.7368 | Val Loss: 1.5462, Val Accuracy: 0.6325\n",
      "\n",
      "Epoch 45/100\n"
     ]
    },
    {
     "name": "stderr",
     "output_type": "stream",
     "text": [
      "Training Epoch 45: 100%|██████████| 19/19 [00:20<00:00,  1.09s/batch, acc=0.734, loss=0.721]\n"
     ]
    },
    {
     "name": "stdout",
     "output_type": "stream",
     "text": [
      "Epoch 45 - Loss: 0.7796, Accuracy: 0.7446 | Val Loss: 1.0954, Val Accuracy: 0.7014\n",
      "\n",
      "Epoch 46/100\n"
     ]
    },
    {
     "name": "stderr",
     "output_type": "stream",
     "text": [
      "Training Epoch 46: 100%|██████████| 19/19 [00:20<00:00,  1.10s/batch, acc=0.766, loss=0.631]\n"
     ]
    },
    {
     "name": "stdout",
     "output_type": "stream",
     "text": [
      "Epoch 46 - Loss: 0.7949, Accuracy: 0.7250 | Val Loss: 1.1240, Val Accuracy: 0.6858\n",
      "\n",
      "Epoch 47/100\n"
     ]
    },
    {
     "name": "stderr",
     "output_type": "stream",
     "text": [
      "Training Epoch 47: 100%|██████████| 19/19 [00:20<00:00,  1.10s/batch, acc=0.734, loss=0.744]\n"
     ]
    },
    {
     "name": "stdout",
     "output_type": "stream",
     "text": [
      "Epoch 47 - Loss: 0.7371, Accuracy: 0.7567 | Val Loss: 1.2455, Val Accuracy: 0.6380\n",
      "\n",
      "Epoch 48/100\n"
     ]
    },
    {
     "name": "stderr",
     "output_type": "stream",
     "text": [
      "Training Epoch 48: 100%|██████████| 19/19 [00:20<00:00,  1.10s/batch, acc=0.828, loss=0.476]\n"
     ]
    },
    {
     "name": "stdout",
     "output_type": "stream",
     "text": [
      "Epoch 48 - Loss: 0.7108, Accuracy: 0.7484 | Val Loss: 1.1079, Val Accuracy: 0.7020\n",
      "\n",
      "Epoch 49/100\n"
     ]
    },
    {
     "name": "stderr",
     "output_type": "stream",
     "text": [
      "Training Epoch 49: 100%|██████████| 19/19 [00:21<00:00,  1.11s/batch, acc=0.812, loss=0.631]\n"
     ]
    },
    {
     "name": "stdout",
     "output_type": "stream",
     "text": [
      "Epoch 49 - Loss: 0.7118, Accuracy: 0.7542 | Val Loss: 0.9076, Val Accuracy: 0.7106\n",
      "Best model saved with Validation Accuracy: 0.7106\n",
      "\n",
      "Epoch 50/100\n"
     ]
    },
    {
     "name": "stderr",
     "output_type": "stream",
     "text": [
      "Training Epoch 50: 100%|██████████| 19/19 [00:20<00:00,  1.06s/batch, acc=0.75, loss=0.815]\n"
     ]
    },
    {
     "name": "stdout",
     "output_type": "stream",
     "text": [
      "Epoch 50 - Loss: 0.7084, Accuracy: 0.7664 | Val Loss: 0.8927, Val Accuracy: 0.7161\n",
      "Best model saved with Validation Accuracy: 0.7161\n",
      "\n",
      "Epoch 51/100\n"
     ]
    },
    {
     "name": "stderr",
     "output_type": "stream",
     "text": [
      "Training Epoch 51: 100%|██████████| 19/19 [00:20<00:00,  1.09s/batch, acc=0.688, loss=0.84]\n"
     ]
    },
    {
     "name": "stdout",
     "output_type": "stream",
     "text": [
      "Epoch 51 - Loss: 0.6869, Accuracy: 0.7670 | Val Loss: 1.0325, Val Accuracy: 0.7526\n",
      "Best model saved with Validation Accuracy: 0.7526\n",
      "\n",
      "Epoch 52/100\n"
     ]
    },
    {
     "name": "stderr",
     "output_type": "stream",
     "text": [
      "Training Epoch 52: 100%|██████████| 19/19 [00:20<00:00,  1.10s/batch, acc=0.812, loss=0.563]\n"
     ]
    },
    {
     "name": "stdout",
     "output_type": "stream",
     "text": [
      "Epoch 52 - Loss: 0.6993, Accuracy: 0.7562 | Val Loss: 1.0183, Val Accuracy: 0.7251\n",
      "\n",
      "Epoch 53/100\n"
     ]
    },
    {
     "name": "stderr",
     "output_type": "stream",
     "text": [
      "Training Epoch 53: 100%|██████████| 19/19 [00:20<00:00,  1.08s/batch, acc=0.734, loss=0.864]\n"
     ]
    },
    {
     "name": "stdout",
     "output_type": "stream",
     "text": [
      "Epoch 53 - Loss: 0.7353, Accuracy: 0.7537 | Val Loss: 1.3197, Val Accuracy: 0.6629\n",
      "\n",
      "Epoch 54/100\n"
     ]
    },
    {
     "name": "stderr",
     "output_type": "stream",
     "text": [
      "Training Epoch 54: 100%|██████████| 19/19 [00:20<00:00,  1.10s/batch, acc=0.734, loss=0.689]\n"
     ]
    },
    {
     "name": "stdout",
     "output_type": "stream",
     "text": [
      "Epoch 54 - Loss: 0.6476, Accuracy: 0.7909 | Val Loss: 1.0177, Val Accuracy: 0.7052\n",
      "\n",
      "Epoch 55/100\n"
     ]
    },
    {
     "name": "stderr",
     "output_type": "stream",
     "text": [
      "Training Epoch 55: 100%|██████████| 19/19 [00:21<00:00,  1.11s/batch, acc=0.818, loss=0.64]\n"
     ]
    },
    {
     "name": "stdout",
     "output_type": "stream",
     "text": [
      "Epoch 55 - Loss: 0.7135, Accuracy: 0.7618 | Val Loss: 1.1987, Val Accuracy: 0.7161\n",
      "\n",
      "Epoch 56/100\n"
     ]
    },
    {
     "name": "stderr",
     "output_type": "stream",
     "text": [
      "Training Epoch 56: 100%|██████████| 19/19 [00:21<00:00,  1.11s/batch, acc=0.781, loss=0.713]\n"
     ]
    },
    {
     "name": "stdout",
     "output_type": "stream",
     "text": [
      "Epoch 56 - Loss: 0.7206, Accuracy: 0.7730 | Val Loss: 1.4150, Val Accuracy: 0.6403\n",
      "\n",
      "Epoch 57/100\n"
     ]
    },
    {
     "name": "stderr",
     "output_type": "stream",
     "text": [
      "Training Epoch 57: 100%|██████████| 19/19 [00:20<00:00,  1.08s/batch, acc=0.781, loss=0.582]\n"
     ]
    },
    {
     "name": "stdout",
     "output_type": "stream",
     "text": [
      "Epoch 57 - Loss: 0.6995, Accuracy: 0.7764 | Val Loss: 0.7033, Val Accuracy: 0.8125\n",
      "Best model saved with Validation Accuracy: 0.8125\n",
      "\n",
      "Epoch 58/100\n"
     ]
    },
    {
     "name": "stderr",
     "output_type": "stream",
     "text": [
      "Training Epoch 58: 100%|██████████| 19/19 [00:21<00:00,  1.11s/batch, acc=0.766, loss=0.628]\n"
     ]
    },
    {
     "name": "stdout",
     "output_type": "stream",
     "text": [
      "Epoch 58 - Loss: 0.6473, Accuracy: 0.7792 | Val Loss: 1.9262, Val Accuracy: 0.6166\n",
      "\n",
      "Epoch 59/100\n"
     ]
    },
    {
     "name": "stderr",
     "output_type": "stream",
     "text": [
      "Training Epoch 59: 100%|██████████| 19/19 [00:20<00:00,  1.09s/batch, acc=0.703, loss=0.661]\n"
     ]
    },
    {
     "name": "stdout",
     "output_type": "stream",
     "text": [
      "Epoch 59 - Loss: 0.7027, Accuracy: 0.7492 | Val Loss: 1.9693, Val Accuracy: 0.6372\n",
      "\n",
      "Epoch 60/100\n"
     ]
    },
    {
     "name": "stderr",
     "output_type": "stream",
     "text": [
      "Training Epoch 60: 100%|██████████| 19/19 [00:20<00:00,  1.09s/batch, acc=0.844, loss=0.544]\n"
     ]
    },
    {
     "name": "stdout",
     "output_type": "stream",
     "text": [
      "Epoch 60 - Loss: 0.5974, Accuracy: 0.7750 | Val Loss: 0.9729, Val Accuracy: 0.7257\n",
      "\n",
      "Epoch 61/100\n"
     ]
    },
    {
     "name": "stderr",
     "output_type": "stream",
     "text": [
      "Training Epoch 61: 100%|██████████| 19/19 [00:21<00:00,  1.11s/batch, acc=0.719, loss=0.84]\n"
     ]
    },
    {
     "name": "stdout",
     "output_type": "stream",
     "text": [
      "Epoch 61 - Loss: 0.6100, Accuracy: 0.7894 | Val Loss: 0.8733, Val Accuracy: 0.7726\n",
      "\n",
      "Epoch 62/100\n"
     ]
    },
    {
     "name": "stderr",
     "output_type": "stream",
     "text": [
      "Training Epoch 62: 100%|██████████| 19/19 [00:20<00:00,  1.09s/batch, acc=0.75, loss=0.704]\n"
     ]
    },
    {
     "name": "stdout",
     "output_type": "stream",
     "text": [
      "Epoch 62 - Loss: 0.6966, Accuracy: 0.7658 | Val Loss: 1.3913, Val Accuracy: 0.6510\n",
      "\n",
      "Epoch 63/100\n"
     ]
    },
    {
     "name": "stderr",
     "output_type": "stream",
     "text": [
      "Training Epoch 63: 100%|██████████| 19/19 [00:20<00:00,  1.09s/batch, acc=0.75, loss=0.801]\n"
     ]
    },
    {
     "name": "stdout",
     "output_type": "stream",
     "text": [
      "Epoch 63 - Loss: 0.6711, Accuracy: 0.7898 | Val Loss: 0.8038, Val Accuracy: 0.7292\n",
      "\n",
      "Epoch 64/100\n"
     ]
    },
    {
     "name": "stderr",
     "output_type": "stream",
     "text": [
      "Training Epoch 64: 100%|██████████| 19/19 [00:20<00:00,  1.06s/batch, acc=0.781, loss=0.65]\n"
     ]
    },
    {
     "name": "stdout",
     "output_type": "stream",
     "text": [
      "Epoch 64 - Loss: 0.5998, Accuracy: 0.8006 | Val Loss: 1.0066, Val Accuracy: 0.7240\n",
      "\n",
      "Epoch 65/100\n"
     ]
    },
    {
     "name": "stderr",
     "output_type": "stream",
     "text": [
      "Training Epoch 65: 100%|██████████| 19/19 [00:20<00:00,  1.10s/batch, acc=0.797, loss=0.637]\n"
     ]
    },
    {
     "name": "stdout",
     "output_type": "stream",
     "text": [
      "Epoch 65 - Loss: 0.6573, Accuracy: 0.7712 | Val Loss: 1.0112, Val Accuracy: 0.6866\n",
      "\n",
      "Epoch 66/100\n"
     ]
    },
    {
     "name": "stderr",
     "output_type": "stream",
     "text": [
      "Training Epoch 66: 100%|██████████| 19/19 [00:21<00:00,  1.12s/batch, acc=0.859, loss=0.506]\n"
     ]
    },
    {
     "name": "stdout",
     "output_type": "stream",
     "text": [
      "Epoch 66 - Loss: 0.5957, Accuracy: 0.7914 | Val Loss: 1.3913, Val Accuracy: 0.6612\n",
      "\n",
      "Epoch 67/100\n"
     ]
    },
    {
     "name": "stderr",
     "output_type": "stream",
     "text": [
      "Training Epoch 67: 100%|██████████| 19/19 [00:20<00:00,  1.10s/batch, acc=0.781, loss=0.604]\n"
     ]
    },
    {
     "name": "stdout",
     "output_type": "stream",
     "text": [
      "Epoch 67 - Loss: 0.5677, Accuracy: 0.8141 | Val Loss: 1.4867, Val Accuracy: 0.6751\n",
      "\n",
      "Epoch 68/100\n"
     ]
    },
    {
     "name": "stderr",
     "output_type": "stream",
     "text": [
      "Training Epoch 68: 100%|██████████| 19/19 [00:21<00:00,  1.11s/batch, acc=0.766, loss=0.602]\n"
     ]
    },
    {
     "name": "stdout",
     "output_type": "stream",
     "text": [
      "Epoch 68 - Loss: 0.5904, Accuracy: 0.7911 | Val Loss: 1.0056, Val Accuracy: 0.7020\n",
      "\n",
      "Epoch 69/100\n"
     ]
    },
    {
     "name": "stderr",
     "output_type": "stream",
     "text": [
      "Training Epoch 69: 100%|██████████| 19/19 [00:20<00:00,  1.10s/batch, acc=0.797, loss=0.608]\n"
     ]
    },
    {
     "name": "stdout",
     "output_type": "stream",
     "text": [
      "Epoch 69 - Loss: 0.5887, Accuracy: 0.8084 | Val Loss: 0.9903, Val Accuracy: 0.7277\n",
      "\n",
      "Epoch 70/100\n"
     ]
    },
    {
     "name": "stderr",
     "output_type": "stream",
     "text": [
      "Training Epoch 70: 100%|██████████| 19/19 [00:20<00:00,  1.08s/batch, acc=0.734, loss=0.656]\n"
     ]
    },
    {
     "name": "stdout",
     "output_type": "stream",
     "text": [
      "Epoch 70 - Loss: 0.5744, Accuracy: 0.8031 | Val Loss: 1.2862, Val Accuracy: 0.7147\n",
      "\n",
      "Epoch 71/100\n"
     ]
    },
    {
     "name": "stderr",
     "output_type": "stream",
     "text": [
      "Training Epoch 71: 100%|██████████| 19/19 [00:20<00:00,  1.09s/batch, acc=0.812, loss=0.575]\n"
     ]
    },
    {
     "name": "stdout",
     "output_type": "stream",
     "text": [
      "Epoch 71 - Loss: 0.5636, Accuracy: 0.8083 | Val Loss: 2.3193, Val Accuracy: 0.6615\n",
      "\n",
      "Epoch 72/100\n"
     ]
    },
    {
     "name": "stderr",
     "output_type": "stream",
     "text": [
      "Training Epoch 72: 100%|██████████| 19/19 [00:21<00:00,  1.11s/batch, acc=0.844, loss=0.412]\n"
     ]
    },
    {
     "name": "stdout",
     "output_type": "stream",
     "text": [
      "Epoch 72 - Loss: 0.6154, Accuracy: 0.7895 | Val Loss: 1.3558, Val Accuracy: 0.6832\n",
      "\n",
      "Epoch 73/100\n"
     ]
    },
    {
     "name": "stderr",
     "output_type": "stream",
     "text": [
      "Training Epoch 73: 100%|██████████| 19/19 [00:21<00:00,  1.11s/batch, acc=0.812, loss=0.593]\n"
     ]
    },
    {
     "name": "stdout",
     "output_type": "stream",
     "text": [
      "Epoch 73 - Loss: 0.5812, Accuracy: 0.8004 | Val Loss: 0.8771, Val Accuracy: 0.7457\n",
      "\n",
      "Epoch 74/100\n"
     ]
    },
    {
     "name": "stderr",
     "output_type": "stream",
     "text": [
      "Training Epoch 74: 100%|██████████| 19/19 [00:20<00:00,  1.09s/batch, acc=0.844, loss=0.585]\n"
     ]
    },
    {
     "name": "stdout",
     "output_type": "stream",
     "text": [
      "Epoch 74 - Loss: 0.4942, Accuracy: 0.8342 | Val Loss: 0.6911, Val Accuracy: 0.7480\n",
      "\n",
      "Epoch 75/100\n"
     ]
    },
    {
     "name": "stderr",
     "output_type": "stream",
     "text": [
      "Training Epoch 75: 100%|██████████| 19/19 [00:21<00:00,  1.11s/batch, acc=0.955, loss=0.25]\n"
     ]
    },
    {
     "name": "stdout",
     "output_type": "stream",
     "text": [
      "Epoch 75 - Loss: 0.4762, Accuracy: 0.8340 | Val Loss: 0.8238, Val Accuracy: 0.7703\n",
      "\n",
      "Epoch 76/100\n"
     ]
    },
    {
     "name": "stderr",
     "output_type": "stream",
     "text": [
      "Training Epoch 76: 100%|██████████| 19/19 [00:21<00:00,  1.13s/batch, acc=0.797, loss=0.529]\n"
     ]
    },
    {
     "name": "stdout",
     "output_type": "stream",
     "text": [
      "Epoch 76 - Loss: 0.5022, Accuracy: 0.8331 | Val Loss: 0.7358, Val Accuracy: 0.7726\n",
      "\n",
      "Epoch 77/100\n"
     ]
    },
    {
     "name": "stderr",
     "output_type": "stream",
     "text": [
      "Training Epoch 77: 100%|██████████| 19/19 [00:21<00:00,  1.12s/batch, acc=0.812, loss=0.653]\n"
     ]
    },
    {
     "name": "stdout",
     "output_type": "stream",
     "text": [
      "Epoch 77 - Loss: 0.4958, Accuracy: 0.8371 | Val Loss: 0.6286, Val Accuracy: 0.7847\n",
      "\n",
      "Epoch 78/100\n"
     ]
    },
    {
     "name": "stderr",
     "output_type": "stream",
     "text": [
      "Training Epoch 78: 100%|██████████| 19/19 [00:20<00:00,  1.08s/batch, acc=0.844, loss=0.471]\n"
     ]
    },
    {
     "name": "stdout",
     "output_type": "stream",
     "text": [
      "Epoch 78 - Loss: 0.5083, Accuracy: 0.8254 | Val Loss: 0.6395, Val Accuracy: 0.8464\n",
      "Best model saved with Validation Accuracy: 0.8464\n",
      "\n",
      "Epoch 79/100\n"
     ]
    },
    {
     "name": "stderr",
     "output_type": "stream",
     "text": [
      "Training Epoch 79: 100%|██████████| 19/19 [00:21<00:00,  1.12s/batch, acc=0.844, loss=0.437]\n"
     ]
    },
    {
     "name": "stdout",
     "output_type": "stream",
     "text": [
      "Epoch 79 - Loss: 0.4756, Accuracy: 0.8266 | Val Loss: 0.6925, Val Accuracy: 0.7789\n",
      "\n",
      "Epoch 80/100\n"
     ]
    },
    {
     "name": "stderr",
     "output_type": "stream",
     "text": [
      "Training Epoch 80: 100%|██████████| 19/19 [00:21<00:00,  1.15s/batch, acc=0.812, loss=0.435]\n"
     ]
    },
    {
     "name": "stdout",
     "output_type": "stream",
     "text": [
      "Epoch 80 - Loss: 0.4651, Accuracy: 0.8297 | Val Loss: 1.4301, Val Accuracy: 0.6832\n",
      "\n",
      "Epoch 81/100\n"
     ]
    },
    {
     "name": "stderr",
     "output_type": "stream",
     "text": [
      "Training Epoch 81: 100%|██████████| 19/19 [00:20<00:00,  1.09s/batch, acc=0.922, loss=0.237]\n"
     ]
    },
    {
     "name": "stdout",
     "output_type": "stream",
     "text": [
      "Epoch 81 - Loss: 0.4451, Accuracy: 0.8526 | Val Loss: 1.2637, Val Accuracy: 0.7462\n",
      "\n",
      "Epoch 82/100\n"
     ]
    },
    {
     "name": "stderr",
     "output_type": "stream",
     "text": [
      "Training Epoch 82: 100%|██████████| 19/19 [00:21<00:00,  1.11s/batch, acc=0.828, loss=0.563]\n"
     ]
    },
    {
     "name": "stdout",
     "output_type": "stream",
     "text": [
      "Epoch 82 - Loss: 0.5149, Accuracy: 0.8366 | Val Loss: 1.7059, Val Accuracy: 0.6198\n",
      "\n",
      "Epoch 83/100\n"
     ]
    },
    {
     "name": "stderr",
     "output_type": "stream",
     "text": [
      "Training Epoch 83: 100%|██████████| 19/19 [00:21<00:00,  1.11s/batch, acc=0.875, loss=0.398]\n"
     ]
    },
    {
     "name": "stdout",
     "output_type": "stream",
     "text": [
      "Epoch 83 - Loss: 0.5309, Accuracy: 0.8169 | Val Loss: 1.2349, Val Accuracy: 0.6687\n",
      "\n",
      "Epoch 84/100\n"
     ]
    },
    {
     "name": "stderr",
     "output_type": "stream",
     "text": [
      "Training Epoch 84: 100%|██████████| 19/19 [00:20<00:00,  1.09s/batch, acc=0.844, loss=0.49]\n"
     ]
    },
    {
     "name": "stdout",
     "output_type": "stream",
     "text": [
      "Epoch 84 - Loss: 0.4667, Accuracy: 0.8485 | Val Loss: 0.9516, Val Accuracy: 0.7028\n",
      "\n",
      "Epoch 85/100\n"
     ]
    },
    {
     "name": "stderr",
     "output_type": "stream",
     "text": [
      "Training Epoch 85: 100%|██████████| 19/19 [00:20<00:00,  1.09s/batch, acc=0.844, loss=0.335]\n"
     ]
    },
    {
     "name": "stdout",
     "output_type": "stream",
     "text": [
      "Epoch 85 - Loss: 0.5117, Accuracy: 0.8231 | Val Loss: 1.0124, Val Accuracy: 0.8073\n",
      "\n",
      "Epoch 86/100\n"
     ]
    },
    {
     "name": "stderr",
     "output_type": "stream",
     "text": [
      "Training Epoch 86: 100%|██████████| 19/19 [00:21<00:00,  1.12s/batch, acc=0.859, loss=0.416]\n"
     ]
    },
    {
     "name": "stdout",
     "output_type": "stream",
     "text": [
      "Epoch 86 - Loss: 0.3848, Accuracy: 0.8599 | Val Loss: 1.7898, Val Accuracy: 0.7153\n",
      "\n",
      "Epoch 87/100\n"
     ]
    },
    {
     "name": "stderr",
     "output_type": "stream",
     "text": [
      "Training Epoch 87: 100%|██████████| 19/19 [00:21<00:00,  1.11s/batch, acc=0.797, loss=0.711]\n"
     ]
    },
    {
     "name": "stdout",
     "output_type": "stream",
     "text": [
      "Epoch 87 - Loss: 0.4533, Accuracy: 0.8451 | Val Loss: 1.0852, Val Accuracy: 0.7428\n",
      "\n",
      "Epoch 88/100\n"
     ]
    },
    {
     "name": "stderr",
     "output_type": "stream",
     "text": [
      "Training Epoch 88: 100%|██████████| 19/19 [00:20<00:00,  1.10s/batch, acc=0.875, loss=0.342]\n"
     ]
    },
    {
     "name": "stdout",
     "output_type": "stream",
     "text": [
      "Epoch 88 - Loss: 0.4674, Accuracy: 0.8464 | Val Loss: 0.7176, Val Accuracy: 0.7688\n",
      "\n",
      "Epoch 89/100\n"
     ]
    },
    {
     "name": "stderr",
     "output_type": "stream",
     "text": [
      "Training Epoch 89: 100%|██████████| 19/19 [00:21<00:00,  1.12s/batch, acc=0.922, loss=0.35]\n"
     ]
    },
    {
     "name": "stdout",
     "output_type": "stream",
     "text": [
      "Epoch 89 - Loss: 0.4241, Accuracy: 0.8624 | Val Loss: 0.6257, Val Accuracy: 0.7746\n",
      "\n",
      "Epoch 90/100\n"
     ]
    },
    {
     "name": "stderr",
     "output_type": "stream",
     "text": [
      "Training Epoch 90: 100%|██████████| 19/19 [00:21<00:00,  1.12s/batch, acc=0.859, loss=0.37]\n"
     ]
    },
    {
     "name": "stdout",
     "output_type": "stream",
     "text": [
      "Epoch 90 - Loss: 0.4602, Accuracy: 0.8363 | Val Loss: 0.6714, Val Accuracy: 0.7986\n",
      "\n",
      "Epoch 91/100\n"
     ]
    },
    {
     "name": "stderr",
     "output_type": "stream",
     "text": [
      "Training Epoch 91: 100%|██████████| 19/19 [00:20<00:00,  1.10s/batch, acc=0.859, loss=0.376]\n"
     ]
    },
    {
     "name": "stdout",
     "output_type": "stream",
     "text": [
      "Epoch 91 - Loss: 0.4399, Accuracy: 0.8448 | Val Loss: 0.5731, Val Accuracy: 0.7977\n",
      "\n",
      "Epoch 92/100\n"
     ]
    },
    {
     "name": "stderr",
     "output_type": "stream",
     "text": [
      "Training Epoch 92: 100%|██████████| 19/19 [00:20<00:00,  1.09s/batch, acc=0.875, loss=0.472]\n"
     ]
    },
    {
     "name": "stdout",
     "output_type": "stream",
     "text": [
      "Epoch 92 - Loss: 0.4810, Accuracy: 0.8465 | Val Loss: 0.5533, Val Accuracy: 0.8307\n",
      "\n",
      "Epoch 93/100\n"
     ]
    },
    {
     "name": "stderr",
     "output_type": "stream",
     "text": [
      "Training Epoch 93: 100%|██████████| 19/19 [00:21<00:00,  1.11s/batch, acc=0.844, loss=0.427]\n"
     ]
    },
    {
     "name": "stdout",
     "output_type": "stream",
     "text": [
      "Epoch 93 - Loss: 0.4357, Accuracy: 0.8490 | Val Loss: 1.2360, Val Accuracy: 0.7242\n",
      "\n",
      "Epoch 94/100\n"
     ]
    },
    {
     "name": "stderr",
     "output_type": "stream",
     "text": [
      "Training Epoch 94: 100%|██████████| 19/19 [00:21<00:00,  1.12s/batch, acc=0.844, loss=0.415]\n"
     ]
    },
    {
     "name": "stdout",
     "output_type": "stream",
     "text": [
      "Epoch 94 - Loss: 0.4440, Accuracy: 0.8443 | Val Loss: 0.9119, Val Accuracy: 0.7567\n",
      "\n",
      "Epoch 95/100\n"
     ]
    },
    {
     "name": "stderr",
     "output_type": "stream",
     "text": [
      "Training Epoch 95: 100%|██████████| 19/19 [00:20<00:00,  1.10s/batch, acc=0.841, loss=0.489]\n"
     ]
    },
    {
     "name": "stdout",
     "output_type": "stream",
     "text": [
      "Epoch 95 - Loss: 0.4592, Accuracy: 0.8469 | Val Loss: 0.6474, Val Accuracy: 0.7908\n",
      "\n",
      "Epoch 96/100\n"
     ]
    },
    {
     "name": "stderr",
     "output_type": "stream",
     "text": [
      "Training Epoch 96: 100%|██████████| 19/19 [00:21<00:00,  1.15s/batch, acc=0.859, loss=0.493]\n"
     ]
    },
    {
     "name": "stdout",
     "output_type": "stream",
     "text": [
      "Epoch 96 - Loss: 0.4136, Accuracy: 0.8717 | Val Loss: 0.4119, Val Accuracy: 0.8409\n",
      "\n",
      "Epoch 97/100\n"
     ]
    },
    {
     "name": "stderr",
     "output_type": "stream",
     "text": [
      "Training Epoch 97: 100%|██████████| 19/19 [00:20<00:00,  1.10s/batch, acc=0.875, loss=0.517]\n"
     ]
    },
    {
     "name": "stdout",
     "output_type": "stream",
     "text": [
      "Epoch 97 - Loss: 0.3984, Accuracy: 0.8612 | Val Loss: 1.1812, Val Accuracy: 0.7242\n",
      "\n",
      "Epoch 98/100\n"
     ]
    },
    {
     "name": "stderr",
     "output_type": "stream",
     "text": [
      "Training Epoch 98: 100%|██████████| 19/19 [00:21<00:00,  1.12s/batch, acc=0.859, loss=0.302]\n"
     ]
    },
    {
     "name": "stdout",
     "output_type": "stream",
     "text": [
      "Epoch 98 - Loss: 0.3829, Accuracy: 0.8669 | Val Loss: 0.8554, Val Accuracy: 0.7471\n",
      "\n",
      "Epoch 99/100\n"
     ]
    },
    {
     "name": "stderr",
     "output_type": "stream",
     "text": [
      "Training Epoch 99: 100%|██████████| 19/19 [00:20<00:00,  1.08s/batch, acc=0.922, loss=0.32]\n"
     ]
    },
    {
     "name": "stdout",
     "output_type": "stream",
     "text": [
      "Epoch 99 - Loss: 0.4217, Accuracy: 0.8592 | Val Loss: 0.6594, Val Accuracy: 0.8203\n",
      "\n",
      "Epoch 100/100\n"
     ]
    },
    {
     "name": "stderr",
     "output_type": "stream",
     "text": [
      "Training Epoch 100: 100%|██████████| 19/19 [00:20<00:00,  1.10s/batch, acc=0.906, loss=0.266]\n"
     ]
    },
    {
     "name": "stdout",
     "output_type": "stream",
     "text": [
      "Epoch 100 - Loss: 0.3739, Accuracy: 0.8696 | Val Loss: 1.0646, Val Accuracy: 0.7315\n",
      "\n",
      "Total Training Time: 2231.31 seconds\n",
      "Final model saved.\n",
      "Best Validation Accuracy: 0.8463541666666666\n"
     ]
    }
   ],
   "source": [
    "# Optimizer and loss function\n",
    "optimizer = tf.keras.optimizers.Adam()\n",
    "loss_fn = tf.keras.losses.CategoricalCrossentropy()\n",
    "\n",
    "# For recording history\n",
    "train_loss_history = []\n",
    "train_acc_history = []\n",
    "val_loss_history = []\n",
    "val_acc_history = []\n",
    "steps_per_epoch = train_generator.samples // batch_size\n",
    "validation_steps = val_generator.samples // batch_size\n",
    "\n",
    "# Track best validation accuracy\n",
    "best_val_acc = 0.0\n",
    "best_model_path = \"best_model.keras\"\n",
    "\n",
    "# Measure training time\n",
    "training_start_time = time.time()\n",
    "\n",
    "for epoch in range(epochs):\n",
    "    print(f\"\\nEpoch {epoch+1}/{epochs}\")\n",
    "    epoch_loss = 0.0\n",
    "    epoch_accuracy = 0.0\n",
    "    steps = 0\n",
    "\n",
    "    # Wrap the batch generator with tqdm for progress bar\n",
    "    with tqdm(total=steps_per_epoch, desc=f\"Training Epoch {epoch+1}\", unit=\"batch\") as pbar:\n",
    "        for batch_x, batch_y in train_generator:\n",
    "            steps += 1\n",
    "            with tf.GradientTape() as tape:\n",
    "                logits = model(batch_x, training=True)\n",
    "                loss_value = loss_fn(batch_y, logits)\n",
    "            grads = tape.gradient(loss_value, model.trainable_weights)\n",
    "            optimizer.apply_gradients(zip(grads, model.trainable_weights))\n",
    "\n",
    "            # Compute batch accuracy\n",
    "            batch_preds = np.argmax(logits.numpy(), axis=1)\n",
    "            batch_labels = np.argmax(batch_y, axis=1)\n",
    "            batch_acc = np.mean(batch_preds == batch_labels)\n",
    "\n",
    "            epoch_loss += loss_value.numpy()\n",
    "            epoch_accuracy += batch_acc\n",
    "\n",
    "            # Update tqdm progress bar\n",
    "            pbar.set_postfix(loss=loss_value.numpy(), acc=batch_acc)\n",
    "            pbar.update(1)\n",
    "\n",
    "            if steps >= steps_per_epoch:\n",
    "                break\n",
    "\n",
    "    epoch_loss /= steps\n",
    "    epoch_accuracy /= steps\n",
    "    train_loss_history.append(epoch_loss)\n",
    "    train_acc_history.append(epoch_accuracy)\n",
    "\n",
    "    # ========================\n",
    "    # Validation Evaluation\n",
    "    # ========================\n",
    "    val_loss = 0.0\n",
    "    val_accuracy = 0.0\n",
    "    val_steps = 0\n",
    "\n",
    "    for val_x, val_y in val_generator:\n",
    "        val_steps += 1\n",
    "        val_logits = model(val_x, training=False)\n",
    "        val_loss_value = loss_fn(val_y, val_logits)\n",
    "        val_preds = np.argmax(val_logits.numpy(), axis=1)\n",
    "        val_labels = np.argmax(val_y, axis=1)\n",
    "        val_batch_acc = np.mean(val_preds == val_labels)\n",
    "\n",
    "        val_loss += val_loss_value.numpy()\n",
    "        val_accuracy += val_batch_acc\n",
    "\n",
    "        if val_steps >= validation_steps:\n",
    "            break\n",
    "\n",
    "    val_loss /= val_steps\n",
    "    val_accuracy /= val_steps\n",
    "    val_loss_history.append(val_loss)\n",
    "    val_acc_history.append(val_accuracy)\n",
    "\n",
    "    print(f\"Epoch {epoch+1} - Loss: {epoch_loss:.4f}, Accuracy: {epoch_accuracy:.4f} | Val Loss: {val_loss:.4f}, Val Accuracy: {val_accuracy:.4f}\")\n",
    "\n",
    "    # Save best model\n",
    "    if val_accuracy > best_val_acc:\n",
    "        best_val_acc = val_accuracy\n",
    "        model.save(best_model_path)\n",
    "        print(f\"Best model saved with Validation Accuracy: {best_val_acc:.4f}\")\n",
    "\n",
    "training_end_time = time.time()\n",
    "total_training_time = training_end_time - training_start_time\n",
    "print(f\"\\nTotal Training Time: {total_training_time:.2f} seconds\")\n",
    "\n",
    "# Save final model\n",
    "model.save(\"final_model.keras\")\n",
    "print(\"Final model saved.\")\n",
    "print(\"Best Validation Accuracy:\", best_val_acc)\n"
   ]
  },
  {
   "cell_type": "code",
   "execution_count": 11,
   "id": "3426b65f",
   "metadata": {
    "execution": {
     "iopub.execute_input": "2025-03-25T15:11:15.481406Z",
     "iopub.status.busy": "2025-03-25T15:11:15.481102Z",
     "iopub.status.idle": "2025-03-25T15:11:16.464852Z",
     "shell.execute_reply": "2025-03-25T15:11:16.463949Z"
    },
    "papermill": {
     "duration": 1.186448,
     "end_time": "2025-03-25T15:11:16.466185",
     "exception": false,
     "start_time": "2025-03-25T15:11:15.279737",
     "status": "completed"
    },
    "tags": []
   },
   "outputs": [
    {
     "data": {
      "image/png": "[encoded data removed]",
      "text/plain": [
       "<Figure size 640x480 with 1 Axes>"
      ]
     },
     "metadata": {},
     "output_type": "display_data"
    },
    {
     "data": {
      "image/png": "[encoded data removed]",
      "text/plain": [
       "<Figure size 640x480 with 1 Axes>"
      ]
     },
     "metadata": {},
     "output_type": "display_data"
    }
   ],
   "source": [
    "# Save training and validation metrics to an Excel file\n",
    "df_metrics = pd.DataFrame(\n",
    "    {\n",
    "        \"Epoch\": np.arange(1, epochs + 1),\n",
    "        \"Train Loss\": train_loss_history,\n",
    "        \"Train Accuracy\": train_acc_history,\n",
    "        \"Validation Loss\": val_loss_history,\n",
    "        \"Validation Accuracy\": val_acc_history,\n",
    "    }\n",
    ")\n",
    "df_metrics.to_excel(f\"{student_name}-{reg_number}-training_metrics.xlsx\", index=False)\n",
    "\n",
    "# Plot and save Accuracy vs Epochs (Train + Validation)\n",
    "plt.figure()\n",
    "plt.plot(np.arange(1, epochs + 1), train_acc_history, marker=\"o\", label=\"Train Accuracy\")\n",
    "plt.plot(np.arange(1, epochs + 1), val_acc_history, marker=\"s\", label=\"Validation Accuracy\")\n",
    "plt.xlabel(\"Epoch\")\n",
    "plt.ylabel(\"Accuracy\")\n",
    "plt.title(\"Accuracy vs Epochs\")\n",
    "plt.legend()\n",
    "acc_graph_filename = f\"{student_name}-{reg_number}-accuracygraph.jpeg\"\n",
    "plt.savefig(acc_graph_filename)\n",
    "plt.show()\n",
    "\n",
    "# Plot and save Loss vs Epochs (Train + Validation)\n",
    "plt.figure()\n",
    "plt.plot(np.arange(1, epochs + 1), train_loss_history, marker=\"o\", label=\"Train Loss\")\n",
    "plt.plot(np.arange(1, epochs + 1), val_loss_history, marker=\"s\", label=\"Validation Loss\")\n",
    "plt.xlabel(\"Epoch\")\n",
    "plt.ylabel(\"Loss\")\n",
    "plt.title(\"Loss vs Epochs\")\n",
    "plt.legend()\n",
    "loss_graph_filename = f\"{student_name}-{reg_number}-lossgraph.jpeg\"\n",
    "plt.savefig(loss_graph_filename)\n",
    "plt.show()\n"
   ]
  },
  {
   "cell_type": "code",
   "execution_count": 12,
   "id": "df0f1499",
   "metadata": {
    "execution": {
     "iopub.execute_input": "2025-03-25T15:11:16.872949Z",
     "iopub.status.busy": "2025-03-25T15:11:16.872215Z",
     "iopub.status.idle": "2025-03-25T15:11:17.234146Z",
     "shell.execute_reply": "2025-03-25T15:11:17.233014Z"
    },
    "papermill": {
     "duration": 0.564659,
     "end_time": "2025-03-25T15:11:17.235568",
     "exception": false,
     "start_time": "2025-03-25T15:11:16.670909",
     "status": "completed"
    },
    "tags": []
   },
   "outputs": [
    {
     "name": "stdout",
     "output_type": "stream",
     "text": [
      "Best trained model saved as AkhileshNegi-221AI008-model.h5\n"
     ]
    },
    {
     "name": "stderr",
     "output_type": "stream",
     "text": [
      "/usr/local/lib/python3.10/dist-packages/keras/src/saving/saving_lib.py:713: UserWarning: Skipping variable loading for optimizer 'adam', because it has 46 variables whereas the saved optimizer has 2 variables. \n",
      "  saveable.load_own_variables(weights_store.get(inner_path))\n"
     ]
    }
   ],
   "source": [
    "# Load the best model from best.keras\n",
    "best_model = load_model(\"best_model.keras\")\n",
    "\n",
    "# Recompile with a fresh optimizer\n",
    "best_model.compile(optimizer=Adam(learning_rate=1e-4), loss=\"categorical_crossentropy\", metrics=[\"accuracy\"])\n",
    "\n",
    "# Save it with the desired filename\n",
    "model_filename = f\"{student_name}-{reg_number}-model.h5\"\n",
    "best_model.save(model_filename)\n",
    "\n",
    "print(f\"Best trained model saved as {model_filename}\")\n",
    "\n",
    "\n",
    "# Save total training time to Excel\n",
    "df_training_time = pd.DataFrame({\"Total_Training_Time_sec\": [total_training_time]})\n",
    "df_training_time.to_excel(f\"{student_name}-{reg_number}-trainingtime.xlsx\", index=False)"
   ]
  }
 ],
 "metadata": {
  "kaggle": {
   "accelerator": "gpu",
   "dataSources": [
    {
     "datasetId": 6953166,
     "sourceId": 11145911,
     "sourceType": "datasetVersion"
    }
   ],
   "dockerImageVersionId": 30918,
   "isGpuEnabled": true,
   "isInternetEnabled": true,
   "language": "python",
   "sourceType": "notebook"
  },
  "kernelspec": {
   "display_name": "Python 3",
   "language": "python",
   "name": "python3"
  },
  "language_info": {
   "codemirror_mode": {
    "name": "ipython",
    "version": 3
   },
   "file_extension": ".py",
   "mimetype": "text/x-python",
   "name": "python",
   "nbconvert_exporter": "python",
   "pygments_lexer": "ipython3",
   "version": "3.10.12"
  },
  "papermill": {
   "default_parameters": {},
   "duration": 3539.243968,
   "end_time": "2025-03-25T15:11:21.472125",
   "environment_variables": {},
   "exception": null,
   "input_path": "__notebook__.ipynb",
   "output_path": "__notebook__.ipynb",
   "parameters": {},
   "start_time": "2025-03-25T14:12:22.228157",
   "version": "2.6.0"
  }
 },
 "nbformat": 4,
 "nbformat_minor": 5
}
